{
 "cells": [
  {
   "cell_type": "markdown",
   "metadata": {},
   "source": [
    "<h1 style=\"color:Black;\" align=\"center\">No Show Appointments</h1> \n",
    "\n",
    "Project two will be focused on a dataset, from Kaggle, called ***No-Show Appointments***.  This dataset collects information from 100k medical appointments in Brazil and is **focused on** the question of whether or not patients **show up for their appointment**. A number of characteristics about the patients are included. The dataset includes the following features about the patients:\n",
    "\n",
    "#### **Data Dictionary**\n",
    "1. PatientId: Identification of patient \n",
    "2. AppointmentID: Identification of each appointment \n",
    "3. Gender: Male or Female \n",
    "4. ScheduledDay: The day that was scheduled to visit doctors\n",
    "5. AppointmentDay: The date the appointment was scheduled (ScheduledDay)\n",
    "6. Age: Age of patient that will be visiting the doctor \n",
    "7. Neighbourhood: Appointment location \n",
    "8. Scholarship: True/False Bolsa Familia is a social welfare program of the government of Brazil.This program provides financial aid to poor Brazilian families. Note: families can be dropped from program and funds suspended if families with kids exceed the total of permitted school absences. \n",
    "9. Hipertension: Hypertension is abnormally high blood pressure\n",
    "10. Diabetes\n",
    "11. Alcoholism\n",
    "12. Handcap\n",
    "13. SMS_received: 1 ore more messages sent to the patient \n",
    "14. No-show - **Yes** means they **DID show up** and **NO** means they did not show up. \n",
    "Note: 0 = False and 1 = True\n",
    "\n",
    "At the end of the data analysis process the `main objective` is to determine if the data can be used for `predicting` if patients will attend the meeting or not."
   ]
  },
  {
   "cell_type": "markdown",
   "metadata": {
    "slideshow": {
     "slide_type": "slide"
    }
   },
   "source": [
    "# Initial Thoughts and Questions \n",
    "\n",
    "Prior to the data wrangling and exploration process these are some initial thoughts/questions about the data's features and samples.  Through the process additional questions might be asked, questions modified, etc. \n",
    "\n",
    "1. Part of data cleansing process clean up column names\n",
    "2. What is the mean number of appointments per patient_id? Do more or less appointments relate to missed appointments? \n",
    "3. What percentage of first time appointments are missed? \n",
    "4. What features have a strong correlation with no-show and show patients. \n",
    "5. Does breaking the dataset into two dataframes (show and no_show) provided better insight to features that will help predict if patients will be a show or no show?\n",
    "6. SMS messages, what is the mean?\n",
    "7. Neighborhood: Would it be possible to rank into low, middle and high income area?\n",
    "8. Does calculating the number of days between day the appointment was scheduled and actual appointment date provide insight into show or no show?  \n",
    "9. Is there a relationship between appointment location and scholarship? Initial assumption is the more people on scholarship for a particular location indicates low to mid income area. \n",
    "\n"
   ]
  },
  {
   "cell_type": "markdown",
   "metadata": {},
   "source": [
    "## Analysis Overview \n",
    "1. [**Data Import, Review and Cleaning**](#import)\n",
    "  * [Initial Cleaning](#clean)\n",
    "  * [Initial Review of the Feature Age](#r_age)\n",
    "  * [Initial Review Select Features](#feat)\n",
    "  * [Convert Categorical Data](#conv)\n",
    "  \n",
    "  \n",
    "2. [**Data Exploration & Feature Engineering**](#featrues)\n",
    "  * [Percentage of Appointments Made & Missed](#made_missed)\n",
    "  * [Age Analysis & Feature Engineering](#age)\n",
    "  * [Municipalities of Brazil](#mun)\n",
    "  * [SMS Messages Sent](#sms)\n",
    "  * [Number of Appointments Scheduled by Patient ID](#appt_sch)\n",
    "  * [Number of Appointments Scheduled by Grouping](#appt_sch_grp)\n",
    "  * [Analysis of Appointment Scheduled by Grouping](#appt_sch_anal)\n",
    "  * [Percentage of Appointments Attended/Made](#appt_made)\n",
    "  * [Analysis Percentage of Appointments Attended/Made](#analysis_appt_made)\n",
    "  * [Additional Analysis Appointments Scheduled Grouping](#add_ana_sched)\n",
    "  * [Gender Analysis](#gender)\n",
    "  * [Days Between Appointment Scheduled & Actual Appointment Day](#days)\n",
    "  * [Create New Feature Days Between](#days_between)\n",
    "  * [Analysis Days between Scheduling & Actual Appointment](#analysis_days_between)\n",
    "  * [Concentrated Focus of Appointments Attended](#con_foc)\n",
    "  \n",
    "  \n",
    " 3. [**Conclusion & Recommendation**](#con_rec)\n",
    "  * [Data Correlation](#data_corr)\n",
    "  * [Final Recommendation](#final)\n",
    "\n",
    "\n",
    "<a id=\"--\"></a>"
   ]
  },
  {
   "cell_type": "markdown",
   "metadata": {},
   "source": [
    "<a id=\"import\"></a>\n",
    "<div class=\"alert alert-block alert-info\">\n",
    "    <font size=\"+3\"><b>Data Import, Review and Cleaning</b></font>\n",
    "</div>"
   ]
  },
  {
   "cell_type": "code",
   "execution_count": 146,
   "metadata": {
    "code_folding": []
   },
   "outputs": [],
   "source": [
    "import pandas as pd\n",
    "import numpy as np\n",
    "import matplotlib\n",
    "import matplotlib.pyplot as plt\n",
    "from matplotlib.ticker import (MultipleLocator, FormatStrFormatter,\n",
    "                               AutoMinorLocator)\n",
    "from IPython.core.interactiveshell import InteractiveShell\n",
    "InteractiveShell.ast_node_interactivity = \"all\"\n",
    "df = pd.read_csv('noshowappointments-kagglev2-may-2016.csv')"
   ]
  },
  {
   "cell_type": "code",
   "execution_count": 147,
   "metadata": {
    "code_folding": []
   },
   "outputs": [],
   "source": [
    "# Enter name of dataframe to right of equal sign to run quick analysis \n",
    "# Saves time if you have multiple dataframes to review and clean\n",
    "df_names = df "
   ]
  },
  {
   "cell_type": "code",
   "execution_count": 148,
   "metadata": {
    "code_folding": []
   },
   "outputs": [
    {
     "data": {
      "text/html": [
       "<div>\n",
       "<style scoped>\n",
       "    .dataframe tbody tr th:only-of-type {\n",
       "        vertical-align: middle;\n",
       "    }\n",
       "\n",
       "    .dataframe tbody tr th {\n",
       "        vertical-align: top;\n",
       "    }\n",
       "\n",
       "    .dataframe thead th {\n",
       "        text-align: right;\n",
       "    }\n",
       "</style>\n",
       "<table border=\"1\" class=\"dataframe\">\n",
       "  <thead>\n",
       "    <tr style=\"text-align: right;\">\n",
       "      <th></th>\n",
       "      <th>PatientId</th>\n",
       "      <th>AppointmentID</th>\n",
       "      <th>Gender</th>\n",
       "      <th>ScheduledDay</th>\n",
       "      <th>AppointmentDay</th>\n",
       "      <th>Age</th>\n",
       "      <th>Neighbourhood</th>\n",
       "      <th>Scholarship</th>\n",
       "      <th>Hipertension</th>\n",
       "      <th>Diabetes</th>\n",
       "      <th>Alcoholism</th>\n",
       "      <th>Handcap</th>\n",
       "      <th>SMS_received</th>\n",
       "      <th>No-show</th>\n",
       "    </tr>\n",
       "  </thead>\n",
       "  <tbody>\n",
       "    <tr>\n",
       "      <th>0</th>\n",
       "      <td>2.987250e+13</td>\n",
       "      <td>5642903</td>\n",
       "      <td>F</td>\n",
       "      <td>2016-04-29T18:38:08Z</td>\n",
       "      <td>2016-04-29T00:00:00Z</td>\n",
       "      <td>62</td>\n",
       "      <td>JARDIM DA PENHA</td>\n",
       "      <td>0</td>\n",
       "      <td>1</td>\n",
       "      <td>0</td>\n",
       "      <td>0</td>\n",
       "      <td>0</td>\n",
       "      <td>0</td>\n",
       "      <td>No</td>\n",
       "    </tr>\n",
       "    <tr>\n",
       "      <th>1</th>\n",
       "      <td>5.589978e+14</td>\n",
       "      <td>5642503</td>\n",
       "      <td>M</td>\n",
       "      <td>2016-04-29T16:08:27Z</td>\n",
       "      <td>2016-04-29T00:00:00Z</td>\n",
       "      <td>56</td>\n",
       "      <td>JARDIM DA PENHA</td>\n",
       "      <td>0</td>\n",
       "      <td>0</td>\n",
       "      <td>0</td>\n",
       "      <td>0</td>\n",
       "      <td>0</td>\n",
       "      <td>0</td>\n",
       "      <td>No</td>\n",
       "    </tr>\n",
       "    <tr>\n",
       "      <th>2</th>\n",
       "      <td>4.262962e+12</td>\n",
       "      <td>5642549</td>\n",
       "      <td>F</td>\n",
       "      <td>2016-04-29T16:19:04Z</td>\n",
       "      <td>2016-04-29T00:00:00Z</td>\n",
       "      <td>62</td>\n",
       "      <td>MATA DA PRAIA</td>\n",
       "      <td>0</td>\n",
       "      <td>0</td>\n",
       "      <td>0</td>\n",
       "      <td>0</td>\n",
       "      <td>0</td>\n",
       "      <td>0</td>\n",
       "      <td>No</td>\n",
       "    </tr>\n",
       "    <tr>\n",
       "      <th>3</th>\n",
       "      <td>8.679512e+11</td>\n",
       "      <td>5642828</td>\n",
       "      <td>F</td>\n",
       "      <td>2016-04-29T17:29:31Z</td>\n",
       "      <td>2016-04-29T00:00:00Z</td>\n",
       "      <td>8</td>\n",
       "      <td>PONTAL DE CAMBURI</td>\n",
       "      <td>0</td>\n",
       "      <td>0</td>\n",
       "      <td>0</td>\n",
       "      <td>0</td>\n",
       "      <td>0</td>\n",
       "      <td>0</td>\n",
       "      <td>No</td>\n",
       "    </tr>\n",
       "    <tr>\n",
       "      <th>4</th>\n",
       "      <td>8.841186e+12</td>\n",
       "      <td>5642494</td>\n",
       "      <td>F</td>\n",
       "      <td>2016-04-29T16:07:23Z</td>\n",
       "      <td>2016-04-29T00:00:00Z</td>\n",
       "      <td>56</td>\n",
       "      <td>JARDIM DA PENHA</td>\n",
       "      <td>0</td>\n",
       "      <td>1</td>\n",
       "      <td>1</td>\n",
       "      <td>0</td>\n",
       "      <td>0</td>\n",
       "      <td>0</td>\n",
       "      <td>No</td>\n",
       "    </tr>\n",
       "  </tbody>\n",
       "</table>\n",
       "</div>"
      ],
      "text/plain": [
       "      PatientId  AppointmentID Gender          ScheduledDay  \\\n",
       "0  2.987250e+13        5642903      F  2016-04-29T18:38:08Z   \n",
       "1  5.589978e+14        5642503      M  2016-04-29T16:08:27Z   \n",
       "2  4.262962e+12        5642549      F  2016-04-29T16:19:04Z   \n",
       "3  8.679512e+11        5642828      F  2016-04-29T17:29:31Z   \n",
       "4  8.841186e+12        5642494      F  2016-04-29T16:07:23Z   \n",
       "\n",
       "         AppointmentDay  Age      Neighbourhood  Scholarship  Hipertension  \\\n",
       "0  2016-04-29T00:00:00Z   62    JARDIM DA PENHA            0             1   \n",
       "1  2016-04-29T00:00:00Z   56    JARDIM DA PENHA            0             0   \n",
       "2  2016-04-29T00:00:00Z   62      MATA DA PRAIA            0             0   \n",
       "3  2016-04-29T00:00:00Z    8  PONTAL DE CAMBURI            0             0   \n",
       "4  2016-04-29T00:00:00Z   56    JARDIM DA PENHA            0             1   \n",
       "\n",
       "   Diabetes  Alcoholism  Handcap  SMS_received No-show  \n",
       "0         0           0        0             0      No  \n",
       "1         0           0        0             0      No  \n",
       "2         0           0        0             0      No  \n",
       "3         0           0        0             0      No  \n",
       "4         1           0        0             0      No  "
      ]
     },
     "execution_count": 148,
     "metadata": {},
     "output_type": "execute_result"
    },
    {
     "name": "stdout",
     "output_type": "stream",
     "text": [
      "===========================================================================\n"
     ]
    },
    {
     "data": {
      "text/html": [
       "<div>\n",
       "<style scoped>\n",
       "    .dataframe tbody tr th:only-of-type {\n",
       "        vertical-align: middle;\n",
       "    }\n",
       "\n",
       "    .dataframe tbody tr th {\n",
       "        vertical-align: top;\n",
       "    }\n",
       "\n",
       "    .dataframe thead th {\n",
       "        text-align: right;\n",
       "    }\n",
       "</style>\n",
       "<table border=\"1\" class=\"dataframe\">\n",
       "  <thead>\n",
       "    <tr style=\"text-align: right;\">\n",
       "      <th></th>\n",
       "      <th>PatientId</th>\n",
       "      <th>AppointmentID</th>\n",
       "      <th>Gender</th>\n",
       "      <th>ScheduledDay</th>\n",
       "      <th>AppointmentDay</th>\n",
       "      <th>Age</th>\n",
       "      <th>Neighbourhood</th>\n",
       "      <th>Scholarship</th>\n",
       "      <th>Hipertension</th>\n",
       "      <th>Diabetes</th>\n",
       "      <th>Alcoholism</th>\n",
       "      <th>Handcap</th>\n",
       "      <th>SMS_received</th>\n",
       "      <th>No-show</th>\n",
       "    </tr>\n",
       "  </thead>\n",
       "  <tbody>\n",
       "    <tr>\n",
       "      <th>110522</th>\n",
       "      <td>2.572134e+12</td>\n",
       "      <td>5651768</td>\n",
       "      <td>F</td>\n",
       "      <td>2016-05-03T09:15:35Z</td>\n",
       "      <td>2016-06-07T00:00:00Z</td>\n",
       "      <td>56</td>\n",
       "      <td>MARIA ORTIZ</td>\n",
       "      <td>0</td>\n",
       "      <td>0</td>\n",
       "      <td>0</td>\n",
       "      <td>0</td>\n",
       "      <td>0</td>\n",
       "      <td>1</td>\n",
       "      <td>No</td>\n",
       "    </tr>\n",
       "    <tr>\n",
       "      <th>110523</th>\n",
       "      <td>3.596266e+12</td>\n",
       "      <td>5650093</td>\n",
       "      <td>F</td>\n",
       "      <td>2016-05-03T07:27:33Z</td>\n",
       "      <td>2016-06-07T00:00:00Z</td>\n",
       "      <td>51</td>\n",
       "      <td>MARIA ORTIZ</td>\n",
       "      <td>0</td>\n",
       "      <td>0</td>\n",
       "      <td>0</td>\n",
       "      <td>0</td>\n",
       "      <td>0</td>\n",
       "      <td>1</td>\n",
       "      <td>No</td>\n",
       "    </tr>\n",
       "    <tr>\n",
       "      <th>110524</th>\n",
       "      <td>1.557663e+13</td>\n",
       "      <td>5630692</td>\n",
       "      <td>F</td>\n",
       "      <td>2016-04-27T16:03:52Z</td>\n",
       "      <td>2016-06-07T00:00:00Z</td>\n",
       "      <td>21</td>\n",
       "      <td>MARIA ORTIZ</td>\n",
       "      <td>0</td>\n",
       "      <td>0</td>\n",
       "      <td>0</td>\n",
       "      <td>0</td>\n",
       "      <td>0</td>\n",
       "      <td>1</td>\n",
       "      <td>No</td>\n",
       "    </tr>\n",
       "    <tr>\n",
       "      <th>110525</th>\n",
       "      <td>9.213493e+13</td>\n",
       "      <td>5630323</td>\n",
       "      <td>F</td>\n",
       "      <td>2016-04-27T15:09:23Z</td>\n",
       "      <td>2016-06-07T00:00:00Z</td>\n",
       "      <td>38</td>\n",
       "      <td>MARIA ORTIZ</td>\n",
       "      <td>0</td>\n",
       "      <td>0</td>\n",
       "      <td>0</td>\n",
       "      <td>0</td>\n",
       "      <td>0</td>\n",
       "      <td>1</td>\n",
       "      <td>No</td>\n",
       "    </tr>\n",
       "    <tr>\n",
       "      <th>110526</th>\n",
       "      <td>3.775115e+14</td>\n",
       "      <td>5629448</td>\n",
       "      <td>F</td>\n",
       "      <td>2016-04-27T13:30:56Z</td>\n",
       "      <td>2016-06-07T00:00:00Z</td>\n",
       "      <td>54</td>\n",
       "      <td>MARIA ORTIZ</td>\n",
       "      <td>0</td>\n",
       "      <td>0</td>\n",
       "      <td>0</td>\n",
       "      <td>0</td>\n",
       "      <td>0</td>\n",
       "      <td>1</td>\n",
       "      <td>No</td>\n",
       "    </tr>\n",
       "  </tbody>\n",
       "</table>\n",
       "</div>"
      ],
      "text/plain": [
       "           PatientId  AppointmentID Gender          ScheduledDay  \\\n",
       "110522  2.572134e+12        5651768      F  2016-05-03T09:15:35Z   \n",
       "110523  3.596266e+12        5650093      F  2016-05-03T07:27:33Z   \n",
       "110524  1.557663e+13        5630692      F  2016-04-27T16:03:52Z   \n",
       "110525  9.213493e+13        5630323      F  2016-04-27T15:09:23Z   \n",
       "110526  3.775115e+14        5629448      F  2016-04-27T13:30:56Z   \n",
       "\n",
       "              AppointmentDay  Age Neighbourhood  Scholarship  Hipertension  \\\n",
       "110522  2016-06-07T00:00:00Z   56   MARIA ORTIZ            0             0   \n",
       "110523  2016-06-07T00:00:00Z   51   MARIA ORTIZ            0             0   \n",
       "110524  2016-06-07T00:00:00Z   21   MARIA ORTIZ            0             0   \n",
       "110525  2016-06-07T00:00:00Z   38   MARIA ORTIZ            0             0   \n",
       "110526  2016-06-07T00:00:00Z   54   MARIA ORTIZ            0             0   \n",
       "\n",
       "        Diabetes  Alcoholism  Handcap  SMS_received No-show  \n",
       "110522         0           0        0             1      No  \n",
       "110523         0           0        0             1      No  \n",
       "110524         0           0        0             1      No  \n",
       "110525         0           0        0             1      No  \n",
       "110526         0           0        0             1      No  "
      ]
     },
     "execution_count": 148,
     "metadata": {},
     "output_type": "execute_result"
    },
    {
     "name": "stdout",
     "output_type": "stream",
     "text": [
      "===========================================================================\n",
      "The SHAPE of this dataframe is: (110527, 14)\n",
      "===========================================================================\n",
      "List the types for this dataframe\n"
     ]
    },
    {
     "data": {
      "text/plain": [
       "PatientId         float64\n",
       "AppointmentID       int64\n",
       "Gender             object\n",
       "ScheduledDay       object\n",
       "AppointmentDay     object\n",
       "Age                 int64\n",
       "Neighbourhood      object\n",
       "Scholarship         int64\n",
       "Hipertension        int64\n",
       "Diabetes            int64\n",
       "Alcoholism          int64\n",
       "Handcap             int64\n",
       "SMS_received        int64\n",
       "No-show            object\n",
       "dtype: object"
      ]
     },
     "execution_count": 148,
     "metadata": {},
     "output_type": "execute_result"
    },
    {
     "name": "stdout",
     "output_type": "stream",
     "text": [
      "===========================================================================\n",
      "List any missing, null or NaN values by column\n"
     ]
    },
    {
     "data": {
      "text/plain": [
       "PatientId         0\n",
       "AppointmentID     0\n",
       "Gender            0\n",
       "ScheduledDay      0\n",
       "AppointmentDay    0\n",
       "Age               0\n",
       "Neighbourhood     0\n",
       "Scholarship       0\n",
       "Hipertension      0\n",
       "Diabetes          0\n",
       "Alcoholism        0\n",
       "Handcap           0\n",
       "SMS_received      0\n",
       "No-show           0\n",
       "dtype: int64"
      ]
     },
     "execution_count": 148,
     "metadata": {},
     "output_type": "execute_result"
    },
    {
     "name": "stdout",
     "output_type": "stream",
     "text": [
      "===========================================================================\n",
      "What is the total number of duplicated rows 0\n"
     ]
    }
   ],
   "source": [
    "# Code to run quick analysis of dataframe\n",
    "df_names.head()\n",
    "print('='*75)\n",
    "df_names.tail()\n",
    "print('='*75)\n",
    "print(f\"The SHAPE of this dataframe is: {df_names.shape}\")\n",
    "print('='*75)\n",
    "print(\"List the types for this dataframe\")\n",
    "df_names.dtypes\n",
    "print('='*75)\n",
    "print(\"List any missing, null or NaN values by column\")\n",
    "df_names.isnull().sum()\n",
    "print('='*75)\n",
    "print(f\"What is the total number of duplicated rows {df_names.duplicated().sum()}\")"
   ]
  },
  {
   "cell_type": "markdown",
   "metadata": {},
   "source": [
    "<a id=\"clean\"></a>\n",
    "## Initial Cleaning Required\n",
    "\n",
    "\n",
    "### **A. Rename feature headings**\n",
    "\n",
    "\n",
    "### **B. Convert three features data types**\n",
    "\n",
    "1. PatientId         float64 to `int64`\n",
    "2. ScheduledDay       object to `dateTime`\n",
    "3. AppointmentDay     object to `dateTime`"
   ]
  },
  {
   "cell_type": "markdown",
   "metadata": {},
   "source": [
    "### A. Rename Feature Headings "
   ]
  },
  {
   "cell_type": "code",
   "execution_count": 149,
   "metadata": {
    "code_folding": []
   },
   "outputs": [
    {
     "data": {
      "text/html": [
       "<div>\n",
       "<style scoped>\n",
       "    .dataframe tbody tr th:only-of-type {\n",
       "        vertical-align: middle;\n",
       "    }\n",
       "\n",
       "    .dataframe tbody tr th {\n",
       "        vertical-align: top;\n",
       "    }\n",
       "\n",
       "    .dataframe thead th {\n",
       "        text-align: right;\n",
       "    }\n",
       "</style>\n",
       "<table border=\"1\" class=\"dataframe\">\n",
       "  <thead>\n",
       "    <tr style=\"text-align: right;\">\n",
       "      <th></th>\n",
       "      <th>patient_id</th>\n",
       "      <th>appt_id</th>\n",
       "      <th>gender</th>\n",
       "      <th>appt_day</th>\n",
       "      <th>appt_made</th>\n",
       "      <th>age</th>\n",
       "      <th>appt_location</th>\n",
       "      <th>financial_aid</th>\n",
       "      <th>hypertension</th>\n",
       "      <th>diabetes</th>\n",
       "      <th>alcoholism</th>\n",
       "      <th>handicap</th>\n",
       "      <th>sms_sent</th>\n",
       "      <th>made_appt</th>\n",
       "    </tr>\n",
       "  </thead>\n",
       "  <tbody>\n",
       "  </tbody>\n",
       "</table>\n",
       "</div>"
      ],
      "text/plain": [
       "Empty DataFrame\n",
       "Columns: [patient_id, appt_id, gender, appt_day, appt_made, age, appt_location, financial_aid, hypertension, diabetes, alcoholism, handicap, sms_sent, made_appt]\n",
       "Index: []"
      ]
     },
     "execution_count": 149,
     "metadata": {},
     "output_type": "execute_result"
    }
   ],
   "source": [
    "old_col_names = list(df.columns)\n",
    "new_col_names = ['patient_id','appt_id','gender','appt_day','appt_made','age',\n",
    "                 'appt_location','financial_aid','hypertension','diabetes','alcoholism',\n",
    "                 'handicap','sms_sent','made_appt']\n",
    "df.rename(columns={i:j for i,j in zip(old_col_names,new_col_names)},\n",
    "           inplace=True)\n",
    "df.head(0) # Check changes "
   ]
  },
  {
   "cell_type": "markdown",
   "metadata": {},
   "source": [
    "### **B. Convert Data Types 3 Features**"
   ]
  },
  {
   "cell_type": "code",
   "execution_count": 150,
   "metadata": {},
   "outputs": [],
   "source": [
    "df['patient_id'] = df['patient_id'].astype('int64')\n",
    "df['appt_day'] = pd.to_datetime(df['appt_day'],yearfirst=True)\n",
    "df['appt_made'] = pd.to_datetime(df['appt_made'],yearfirst=True)"
   ]
  },
  {
   "cell_type": "code",
   "execution_count": 151,
   "metadata": {},
   "outputs": [
    {
     "data": {
      "text/plain": [
       "dtype('int64')"
      ]
     },
     "execution_count": 151,
     "metadata": {},
     "output_type": "execute_result"
    },
    {
     "data": {
      "text/plain": [
       "datetime64[ns, UTC]"
      ]
     },
     "execution_count": 151,
     "metadata": {},
     "output_type": "execute_result"
    },
    {
     "data": {
      "text/plain": [
       "datetime64[ns, UTC]"
      ]
     },
     "execution_count": 151,
     "metadata": {},
     "output_type": "execute_result"
    }
   ],
   "source": [
    "df['patient_id'].dtypes\n",
    "df['appt_day'].dtypes\n",
    "df['appt_made'].dtypes"
   ]
  },
  {
   "cell_type": "code",
   "execution_count": 152,
   "metadata": {
    "scrolled": true
   },
   "outputs": [
    {
     "data": {
      "text/html": [
       "<div>\n",
       "<style scoped>\n",
       "    .dataframe tbody tr th:only-of-type {\n",
       "        vertical-align: middle;\n",
       "    }\n",
       "\n",
       "    .dataframe tbody tr th {\n",
       "        vertical-align: top;\n",
       "    }\n",
       "\n",
       "    .dataframe thead th {\n",
       "        text-align: right;\n",
       "    }\n",
       "</style>\n",
       "<table border=\"1\" class=\"dataframe\">\n",
       "  <thead>\n",
       "    <tr style=\"text-align: right;\">\n",
       "      <th></th>\n",
       "      <th>patient_id</th>\n",
       "      <th>appt_id</th>\n",
       "      <th>gender</th>\n",
       "      <th>appt_day</th>\n",
       "      <th>appt_made</th>\n",
       "      <th>age</th>\n",
       "      <th>appt_location</th>\n",
       "      <th>financial_aid</th>\n",
       "      <th>hypertension</th>\n",
       "      <th>diabetes</th>\n",
       "      <th>alcoholism</th>\n",
       "      <th>handicap</th>\n",
       "      <th>sms_sent</th>\n",
       "      <th>made_appt</th>\n",
       "    </tr>\n",
       "  </thead>\n",
       "  <tbody>\n",
       "    <tr>\n",
       "      <th>0</th>\n",
       "      <td>29872499824296</td>\n",
       "      <td>5642903</td>\n",
       "      <td>F</td>\n",
       "      <td>2016-04-29 18:38:08+00:00</td>\n",
       "      <td>2016-04-29 00:00:00+00:00</td>\n",
       "      <td>62</td>\n",
       "      <td>JARDIM DA PENHA</td>\n",
       "      <td>0</td>\n",
       "      <td>1</td>\n",
       "      <td>0</td>\n",
       "      <td>0</td>\n",
       "      <td>0</td>\n",
       "      <td>0</td>\n",
       "      <td>No</td>\n",
       "    </tr>\n",
       "    <tr>\n",
       "      <th>1</th>\n",
       "      <td>558997776694438</td>\n",
       "      <td>5642503</td>\n",
       "      <td>M</td>\n",
       "      <td>2016-04-29 16:08:27+00:00</td>\n",
       "      <td>2016-04-29 00:00:00+00:00</td>\n",
       "      <td>56</td>\n",
       "      <td>JARDIM DA PENHA</td>\n",
       "      <td>0</td>\n",
       "      <td>0</td>\n",
       "      <td>0</td>\n",
       "      <td>0</td>\n",
       "      <td>0</td>\n",
       "      <td>0</td>\n",
       "      <td>No</td>\n",
       "    </tr>\n",
       "    <tr>\n",
       "      <th>2</th>\n",
       "      <td>4262962299951</td>\n",
       "      <td>5642549</td>\n",
       "      <td>F</td>\n",
       "      <td>2016-04-29 16:19:04+00:00</td>\n",
       "      <td>2016-04-29 00:00:00+00:00</td>\n",
       "      <td>62</td>\n",
       "      <td>MATA DA PRAIA</td>\n",
       "      <td>0</td>\n",
       "      <td>0</td>\n",
       "      <td>0</td>\n",
       "      <td>0</td>\n",
       "      <td>0</td>\n",
       "      <td>0</td>\n",
       "      <td>No</td>\n",
       "    </tr>\n",
       "    <tr>\n",
       "      <th>3</th>\n",
       "      <td>867951213174</td>\n",
       "      <td>5642828</td>\n",
       "      <td>F</td>\n",
       "      <td>2016-04-29 17:29:31+00:00</td>\n",
       "      <td>2016-04-29 00:00:00+00:00</td>\n",
       "      <td>8</td>\n",
       "      <td>PONTAL DE CAMBURI</td>\n",
       "      <td>0</td>\n",
       "      <td>0</td>\n",
       "      <td>0</td>\n",
       "      <td>0</td>\n",
       "      <td>0</td>\n",
       "      <td>0</td>\n",
       "      <td>No</td>\n",
       "    </tr>\n",
       "    <tr>\n",
       "      <th>4</th>\n",
       "      <td>8841186448183</td>\n",
       "      <td>5642494</td>\n",
       "      <td>F</td>\n",
       "      <td>2016-04-29 16:07:23+00:00</td>\n",
       "      <td>2016-04-29 00:00:00+00:00</td>\n",
       "      <td>56</td>\n",
       "      <td>JARDIM DA PENHA</td>\n",
       "      <td>0</td>\n",
       "      <td>1</td>\n",
       "      <td>1</td>\n",
       "      <td>0</td>\n",
       "      <td>0</td>\n",
       "      <td>0</td>\n",
       "      <td>No</td>\n",
       "    </tr>\n",
       "  </tbody>\n",
       "</table>\n",
       "</div>"
      ],
      "text/plain": [
       "        patient_id  appt_id gender                  appt_day  \\\n",
       "0   29872499824296  5642903      F 2016-04-29 18:38:08+00:00   \n",
       "1  558997776694438  5642503      M 2016-04-29 16:08:27+00:00   \n",
       "2    4262962299951  5642549      F 2016-04-29 16:19:04+00:00   \n",
       "3     867951213174  5642828      F 2016-04-29 17:29:31+00:00   \n",
       "4    8841186448183  5642494      F 2016-04-29 16:07:23+00:00   \n",
       "\n",
       "                  appt_made  age      appt_location  financial_aid  \\\n",
       "0 2016-04-29 00:00:00+00:00   62    JARDIM DA PENHA              0   \n",
       "1 2016-04-29 00:00:00+00:00   56    JARDIM DA PENHA              0   \n",
       "2 2016-04-29 00:00:00+00:00   62      MATA DA PRAIA              0   \n",
       "3 2016-04-29 00:00:00+00:00    8  PONTAL DE CAMBURI              0   \n",
       "4 2016-04-29 00:00:00+00:00   56    JARDIM DA PENHA              0   \n",
       "\n",
       "   hypertension  diabetes  alcoholism  handicap  sms_sent made_appt  \n",
       "0             1         0           0         0         0        No  \n",
       "1             0         0           0         0         0        No  \n",
       "2             0         0           0         0         0        No  \n",
       "3             0         0           0         0         0        No  \n",
       "4             1         1           0         0         0        No  "
      ]
     },
     "execution_count": 152,
     "metadata": {},
     "output_type": "execute_result"
    }
   ],
   "source": [
    "df.head()"
   ]
  },
  {
   "cell_type": "code",
   "execution_count": 153,
   "metadata": {
    "code_folding": []
   },
   "outputs": [
    {
     "name": "stdout",
     "output_type": "stream",
     "text": [
      "Yes = 22319 <><> No = 88208 Total = 110527 \n",
      "Confirm this number mathces total above 110527\n"
     ]
    }
   ],
   "source": [
    "# Validate changes are correct\n",
    "count_y = 0\n",
    "count_n = 0\n",
    "for i in range(len(df['made_appt'])):\n",
    "    var = df.loc[i,'made_appt']\n",
    "    if  var == 'Yes':\n",
    "        count_y += 1\n",
    "    else:\n",
    "        count_n += 1\n",
    "print(f\"Yes = {count_y} <><> No = {count_n} Total = {count_n + count_y} \")\n",
    "print(f\"Confirm this number mathces total above {len(df['made_appt'])}\")"
   ]
  },
  {
   "cell_type": "markdown",
   "metadata": {},
   "source": [
    "## Check Total Unique Values by Column & Summary Statistics \n",
    "1. **Patient_id** has 622,999 unique IDs. Run analysis to see how many patients visited more than one time and what the range is for visits.  \n",
    "2. **Age** 104 unique values with a minimum of -1 which must be an error and max of 115. Double check the count and maybe drop the outliers.  The standard deviation is 23 which does not seem correct. This needs to be validated. \n",
    "3. Based on the mean for hypertension, diabetes, alcoholism and handicap it might make sense to drop these columns if the percent is small enough. "
   ]
  },
  {
   "cell_type": "code",
   "execution_count": 154,
   "metadata": {},
   "outputs": [
    {
     "name": "stdout",
     "output_type": "stream",
     "text": [
      "Number of UNIQUE VALUES by column\n"
     ]
    },
    {
     "data": {
      "text/plain": [
       "patient_id        62299\n",
       "appt_id          110527\n",
       "gender                2\n",
       "appt_day         103549\n",
       "appt_made            27\n",
       "age                 104\n",
       "appt_location        81\n",
       "financial_aid         2\n",
       "hypertension          2\n",
       "diabetes              2\n",
       "alcoholism            2\n",
       "handicap              5\n",
       "sms_sent              2\n",
       "made_appt             2\n",
       "dtype: int64"
      ]
     },
     "execution_count": 154,
     "metadata": {},
     "output_type": "execute_result"
    },
    {
     "data": {
      "text/html": [
       "<div>\n",
       "<style scoped>\n",
       "    .dataframe tbody tr th:only-of-type {\n",
       "        vertical-align: middle;\n",
       "    }\n",
       "\n",
       "    .dataframe tbody tr th {\n",
       "        vertical-align: top;\n",
       "    }\n",
       "\n",
       "    .dataframe thead th {\n",
       "        text-align: right;\n",
       "    }\n",
       "</style>\n",
       "<table border=\"1\" class=\"dataframe\">\n",
       "  <thead>\n",
       "    <tr style=\"text-align: right;\">\n",
       "      <th></th>\n",
       "      <th>patient_id</th>\n",
       "      <th>appt_id</th>\n",
       "      <th>age</th>\n",
       "      <th>financial_aid</th>\n",
       "      <th>hypertension</th>\n",
       "      <th>diabetes</th>\n",
       "      <th>alcoholism</th>\n",
       "      <th>handicap</th>\n",
       "      <th>sms_sent</th>\n",
       "    </tr>\n",
       "  </thead>\n",
       "  <tbody>\n",
       "    <tr>\n",
       "      <th>count</th>\n",
       "      <td>1.105270e+05</td>\n",
       "      <td>1.105270e+05</td>\n",
       "      <td>110527.000000</td>\n",
       "      <td>110527.000000</td>\n",
       "      <td>110527.000000</td>\n",
       "      <td>110527.000000</td>\n",
       "      <td>110527.000000</td>\n",
       "      <td>110527.000000</td>\n",
       "      <td>110527.000000</td>\n",
       "    </tr>\n",
       "    <tr>\n",
       "      <th>mean</th>\n",
       "      <td>1.474963e+14</td>\n",
       "      <td>5.675305e+06</td>\n",
       "      <td>37.088874</td>\n",
       "      <td>0.098266</td>\n",
       "      <td>0.197246</td>\n",
       "      <td>0.071865</td>\n",
       "      <td>0.030400</td>\n",
       "      <td>0.022248</td>\n",
       "      <td>0.321026</td>\n",
       "    </tr>\n",
       "    <tr>\n",
       "      <th>std</th>\n",
       "      <td>2.560949e+14</td>\n",
       "      <td>7.129575e+04</td>\n",
       "      <td>23.110205</td>\n",
       "      <td>0.297675</td>\n",
       "      <td>0.397921</td>\n",
       "      <td>0.258265</td>\n",
       "      <td>0.171686</td>\n",
       "      <td>0.161543</td>\n",
       "      <td>0.466873</td>\n",
       "    </tr>\n",
       "    <tr>\n",
       "      <th>min</th>\n",
       "      <td>3.921700e+04</td>\n",
       "      <td>5.030230e+06</td>\n",
       "      <td>-1.000000</td>\n",
       "      <td>0.000000</td>\n",
       "      <td>0.000000</td>\n",
       "      <td>0.000000</td>\n",
       "      <td>0.000000</td>\n",
       "      <td>0.000000</td>\n",
       "      <td>0.000000</td>\n",
       "    </tr>\n",
       "    <tr>\n",
       "      <th>25%</th>\n",
       "      <td>4.172614e+12</td>\n",
       "      <td>5.640286e+06</td>\n",
       "      <td>18.000000</td>\n",
       "      <td>0.000000</td>\n",
       "      <td>0.000000</td>\n",
       "      <td>0.000000</td>\n",
       "      <td>0.000000</td>\n",
       "      <td>0.000000</td>\n",
       "      <td>0.000000</td>\n",
       "    </tr>\n",
       "    <tr>\n",
       "      <th>50%</th>\n",
       "      <td>3.173184e+13</td>\n",
       "      <td>5.680573e+06</td>\n",
       "      <td>37.000000</td>\n",
       "      <td>0.000000</td>\n",
       "      <td>0.000000</td>\n",
       "      <td>0.000000</td>\n",
       "      <td>0.000000</td>\n",
       "      <td>0.000000</td>\n",
       "      <td>0.000000</td>\n",
       "    </tr>\n",
       "    <tr>\n",
       "      <th>75%</th>\n",
       "      <td>9.439172e+13</td>\n",
       "      <td>5.725524e+06</td>\n",
       "      <td>55.000000</td>\n",
       "      <td>0.000000</td>\n",
       "      <td>0.000000</td>\n",
       "      <td>0.000000</td>\n",
       "      <td>0.000000</td>\n",
       "      <td>0.000000</td>\n",
       "      <td>1.000000</td>\n",
       "    </tr>\n",
       "    <tr>\n",
       "      <th>max</th>\n",
       "      <td>9.999816e+14</td>\n",
       "      <td>5.790484e+06</td>\n",
       "      <td>115.000000</td>\n",
       "      <td>1.000000</td>\n",
       "      <td>1.000000</td>\n",
       "      <td>1.000000</td>\n",
       "      <td>1.000000</td>\n",
       "      <td>4.000000</td>\n",
       "      <td>1.000000</td>\n",
       "    </tr>\n",
       "  </tbody>\n",
       "</table>\n",
       "</div>"
      ],
      "text/plain": [
       "         patient_id       appt_id            age  financial_aid  \\\n",
       "count  1.105270e+05  1.105270e+05  110527.000000  110527.000000   \n",
       "mean   1.474963e+14  5.675305e+06      37.088874       0.098266   \n",
       "std    2.560949e+14  7.129575e+04      23.110205       0.297675   \n",
       "min    3.921700e+04  5.030230e+06      -1.000000       0.000000   \n",
       "25%    4.172614e+12  5.640286e+06      18.000000       0.000000   \n",
       "50%    3.173184e+13  5.680573e+06      37.000000       0.000000   \n",
       "75%    9.439172e+13  5.725524e+06      55.000000       0.000000   \n",
       "max    9.999816e+14  5.790484e+06     115.000000       1.000000   \n",
       "\n",
       "        hypertension       diabetes     alcoholism       handicap  \\\n",
       "count  110527.000000  110527.000000  110527.000000  110527.000000   \n",
       "mean        0.197246       0.071865       0.030400       0.022248   \n",
       "std         0.397921       0.258265       0.171686       0.161543   \n",
       "min         0.000000       0.000000       0.000000       0.000000   \n",
       "25%         0.000000       0.000000       0.000000       0.000000   \n",
       "50%         0.000000       0.000000       0.000000       0.000000   \n",
       "75%         0.000000       0.000000       0.000000       0.000000   \n",
       "max         1.000000       1.000000       1.000000       4.000000   \n",
       "\n",
       "            sms_sent  \n",
       "count  110527.000000  \n",
       "mean        0.321026  \n",
       "std         0.466873  \n",
       "min         0.000000  \n",
       "25%         0.000000  \n",
       "50%         0.000000  \n",
       "75%         1.000000  \n",
       "max         1.000000  "
      ]
     },
     "execution_count": 154,
     "metadata": {},
     "output_type": "execute_result"
    }
   ],
   "source": [
    "print('Number of UNIQUE VALUES by column')\n",
    "df.nunique()\n",
    "df.describe()"
   ]
  },
  {
   "cell_type": "markdown",
   "metadata": {},
   "source": [
    "###  Modify Age of one row\n",
    "- One age is -1 adjust to 1"
   ]
  },
  {
   "cell_type": "code",
   "execution_count": 155,
   "metadata": {},
   "outputs": [
    {
     "data": {
      "text/html": [
       "<div>\n",
       "<style scoped>\n",
       "    .dataframe tbody tr th:only-of-type {\n",
       "        vertical-align: middle;\n",
       "    }\n",
       "\n",
       "    .dataframe tbody tr th {\n",
       "        vertical-align: top;\n",
       "    }\n",
       "\n",
       "    .dataframe thead th {\n",
       "        text-align: right;\n",
       "    }\n",
       "</style>\n",
       "<table border=\"1\" class=\"dataframe\">\n",
       "  <thead>\n",
       "    <tr style=\"text-align: right;\">\n",
       "      <th></th>\n",
       "      <th>patient_id</th>\n",
       "      <th>appt_id</th>\n",
       "      <th>gender</th>\n",
       "      <th>appt_day</th>\n",
       "      <th>appt_made</th>\n",
       "      <th>age</th>\n",
       "      <th>appt_location</th>\n",
       "      <th>financial_aid</th>\n",
       "      <th>hypertension</th>\n",
       "      <th>diabetes</th>\n",
       "      <th>alcoholism</th>\n",
       "      <th>handicap</th>\n",
       "      <th>sms_sent</th>\n",
       "      <th>made_appt</th>\n",
       "    </tr>\n",
       "  </thead>\n",
       "  <tbody>\n",
       "    <tr>\n",
       "      <th>99832</th>\n",
       "      <td>465943158731293</td>\n",
       "      <td>5775010</td>\n",
       "      <td>F</td>\n",
       "      <td>2016-06-06 08:58:13+00:00</td>\n",
       "      <td>2016-06-06 00:00:00+00:00</td>\n",
       "      <td>-1</td>\n",
       "      <td>ROMÃO</td>\n",
       "      <td>0</td>\n",
       "      <td>0</td>\n",
       "      <td>0</td>\n",
       "      <td>0</td>\n",
       "      <td>0</td>\n",
       "      <td>0</td>\n",
       "      <td>No</td>\n",
       "    </tr>\n",
       "  </tbody>\n",
       "</table>\n",
       "</div>"
      ],
      "text/plain": [
       "            patient_id  appt_id gender                  appt_day  \\\n",
       "99832  465943158731293  5775010      F 2016-06-06 08:58:13+00:00   \n",
       "\n",
       "                      appt_made  age appt_location  financial_aid  \\\n",
       "99832 2016-06-06 00:00:00+00:00   -1         ROMÃO              0   \n",
       "\n",
       "       hypertension  diabetes  alcoholism  handicap  sms_sent made_appt  \n",
       "99832             0         0           0         0         0        No  "
      ]
     },
     "execution_count": 155,
     "metadata": {},
     "output_type": "execute_result"
    },
    {
     "data": {
      "text/plain": [
       "0"
      ]
     },
     "execution_count": 155,
     "metadata": {},
     "output_type": "execute_result"
    }
   ],
   "source": [
    "# Change age from -1 to 1\n",
    "df[df['age'] == -1]\n",
    "df.loc[99832,'age'] = df.loc[99832,'age'] = 1\n",
    "# Confirm age was adjusted \n",
    "df['age'].min()"
   ]
  },
  {
   "cell_type": "markdown",
   "metadata": {},
   "source": [
    "<a id=\"r_age\"></a>\n",
    "## Initial Age Review \n",
    "Based on the below histogram the age range `0 to 10` is the largest bin with respect to appointments made. Then ages `10 to 70` is relatively uniform with a frequency of 12,500 to 15,200. After that, it drops down substantially.  The next steps will be to add a column with the below age ranges.  Then check the correlation between age and whether the individual made the scheduled appointment.  \n",
    "\n",
    "1. < 10\n",
    "2. 10 >= and  <20\n",
    "3. 20 >= and < 30\n",
    "4. 30 >= and < 40\n",
    "5. 40 >= and < 50\n",
    "6. 50 >= and < 60\n",
    "7. `> 60"
   ]
  },
  {
   "cell_type": "code",
   "execution_count": 156,
   "metadata": {
    "code_folding": []
   },
   "outputs": [],
   "source": [
    "# calculate +/- std dev\n",
    "m = df['age'].mean()\n",
    "s = np.std(np.array(df['age']))\n",
    "std_plus_1 = m + s \n",
    "std_plus_2 = m + s + s \n",
    "std_plus_3 = m + s + s + s \n",
    "\n",
    "std_minus_1 = m - s\n",
    "std_minus_2 = m - s -s \n",
    "std_minus_3 = m - s - s - s"
   ]
  },
  {
   "cell_type": "code",
   "execution_count": 157,
   "metadata": {},
   "outputs": [],
   "source": [
    "InteractiveShell.ast_node_interactivity = \"none\" # \"last_expr\" \"all\" \"none\""
   ]
  },
  {
   "cell_type": "code",
   "execution_count": 158,
   "metadata": {
    "code_folding": []
   },
   "outputs": [
    {
     "data": {
      "image/png": "[encoded data removed]",
      "text/plain": [
       "<Figure size 936x288 with 1 Axes>"
      ]
     },
     "metadata": {
      "needs_background": "light"
     },
     "output_type": "display_data"
    }
   ],
   "source": [
    "# Age histogram \n",
    "fig, ax = plt.subplots(figsize=(13,4))\n",
    "col_name = 'age'\n",
    "df_name = 'df'\n",
    "bins = 12\n",
    "\n",
    "plt.hist(df[col_name],facecolor=(.68, .85, .90),edgecolor='green',\n",
    "        linewidth=2,linestyle='--',bins=bins,align='mid')\n",
    "\n",
    "ax.set_title(df_name + ' ' + col_name,fontsize=14,fontweight='bold')\n",
    "ax.set_ylabel('Frequency',fontsize=14,fontweight='bold')\n",
    "ax.set_xlabel(col_name,fontsize=14,fontweight='bold')\n",
    "\n",
    "plt.axvline(df[col_name].mean(),color='k',linestyle='--',lw=4,label='Mean') # Mean\n",
    "plt.axvline(df[col_name].median(),color='r',linestyle='-.',lw=4,label='Meadian') # Meadian \n",
    "plt.axvline(std_plus_1,color='b',linestyle='--',lw=4,label='1 Std Dev') # 1 std dev\n",
    "plt.axvline(std_plus_2,color='b',linestyle='--',lw=4,label='2 Std Dev') # 2 std dev\n",
    "plt.axvline(std_minus_1,color='y',linestyle='--',lw=4,label='1 Std Dev') # 1 std dev left\n",
    "plt.grid(axis='y',alpha=0.5)\n",
    "plt.legend()\n",
    "plt.show()"
   ]
  },
  {
   "cell_type": "markdown",
   "metadata": {},
   "source": [
    "<a id=\"feat\"></a>\n",
    "## Review of Financial Aid, Hypertension, Diabetes, Alcoholism, Handicap\n",
    "Early review of the features to understand what percentage of the patients are linked to a particular feature. The two main features are: `Financial Aid` where `10%` of patients receive and `20%` of patients have `Hypertension`.\n",
    "\n",
    "1. **Financial Aid** 10%\n",
    "2. **Hypertension**  20% \n",
    "3. **Diabetes**       7% \n",
    "4. **Alcoholism**     3%\n",
    "5. **Handicap**       2%"
   ]
  },
  {
   "cell_type": "code",
   "execution_count": 159,
   "metadata": {
    "code_folding": []
   },
   "outputs": [
    {
     "name": "stdout",
     "output_type": "stream",
     "text": [
      "Financial_Aid has a total of 10861 rows equal to True which is 10 percent of total\n",
      "Hypertension has a total of 21801 rows equal to True which is 20 percent of total\n",
      "Diabetes has a total of 7943 rows equal to True which is 7 percent of total\n",
      "Alcoholism has a total of 3360 rows equal to True which is 3 percent of total\n",
      "Handicap has a total of 2241 rows equal to True which is 2 percent of total\n"
     ]
    }
   ],
   "source": [
    "# Percent True where True indicates they reveived financial aid have diabetes, etc\n",
    "col_names = ['financial_aid', 'hypertension', 'diabetes','alcoholism', 'handicap']\n",
    "for col in col_names:\n",
    "    count_0 = 0\n",
    "    count_1 = 0\n",
    "    for i in range(len(df[col])):\n",
    "        if df.loc[i,col] == 0:\n",
    "            count_0 += 1\n",
    "        else:\n",
    "            count_1 += 1\n",
    "    percent = int(round(count_1 / (count_0 + count_1),2) * 100)\n",
    "    print(f\"{col.title()} has a total of {count_1} rows equal to True which is {percent} percent of total\")"
   ]
  },
  {
   "cell_type": "markdown",
   "metadata": {},
   "source": [
    "<a id=\"conv\"></a>\n",
    "## Convert Categorical Data Types \n",
    "**made_appt** is currently a string object where 'No' equals the patient did not make the appointment and 'Yes' equals the patient did make the appointment.  This will be switched to int64 where 'Yes' will be converted to 1 (True) they made appointment and 'No' to 0 (False) they did NOT make the appointment.   \n",
    "\n",
    "**gender** is a string object where 'M' is male and 'F' is female. This will be converted to 0 and 1 for respected genders. \n",
    "\n",
    "**appt_day and appt_made** These two are datetime format. Created a new column.  "
   ]
  },
  {
   "cell_type": "code",
   "execution_count": 160,
   "metadata": {},
   "outputs": [],
   "source": [
    "# get_dummies for gender and made_appt\n",
    "df = pd.get_dummies(df, columns=['gender','made_appt'])"
   ]
  },
  {
   "cell_type": "code",
   "execution_count": 161,
   "metadata": {},
   "outputs": [],
   "source": [
    "InteractiveShell.ast_node_interactivity = \"last_expr\" # \"last_expr\" \"all\" \"none\"\n",
    "df.head(4)"
   ]
  },
  {
   "cell_type": "code",
   "execution_count": 162,
   "metadata": {},
   "outputs": [],
   "source": [
    "# Drop column gender_M and change column gender_F to 'gender_f=1_m=0'\n",
    "# Drop column made_appt_No change column made_appt_Yes to 'made_appt_yes=1_no=2'\n",
    "df = df.drop(columns=['gender_M','made_appt_No'])\n",
    "df = df.rename(columns={'made_appt_Yes':'made_appt_yes=1_no=0','gender_F':'gender_f=1_m=0'})"
   ]
  },
  {
   "cell_type": "markdown",
   "metadata": {},
   "source": [
    "<a id=\"features\"></a>\n",
    "<div class=\"alert alert-block alert-info\">\n",
    "    <font size=\"+3\"><b>Data Exploration & Feature Engineering</b></font>\n",
    "</div>"
   ]
  },
  {
   "cell_type": "markdown",
   "metadata": {},
   "source": [
    "<a id=\"made_missed\"></a>\n",
    "## Percentage of Appointments Made & Missed \n",
    "To start the data exploration process the we will first look at the percentage of appointments attended and missed. Out of **110,527** samples (appointments made) only **20%** of them had been **made** and **80% missed**. "
   ]
  },
  {
   "cell_type": "code",
   "execution_count": 163,
   "metadata": {},
   "outputs": [
    {
     "name": "stdout",
     "output_type": "stream",
     "text": [
      "Percent of appointments MADE 20.19\n",
      "Percent of appoitments MISSED 79.81\n",
      "This is based on a sample size of 110527\n"
     ]
    }
   ],
   "source": [
    "# Calculate made and missed appointments\n",
    "yes = df[df['made_appt_yes=1_no=0'] == 1].count()['made_appt_yes=1_no=0']\n",
    "no =  df[df['made_appt_yes=1_no=0'] == 0].count()['made_appt_yes=1_no=0']\n",
    "print(f\"Percent of appointments MADE {round(yes/(yes+no)*100,2)}\")\n",
    "print(f\"Percent of appoitments MISSED {round(no/(yes+no)*100,2)}\")\n",
    "print(f\"This is based on a sample size of {yes+no}\")"
   ]
  },
  {
   "cell_type": "markdown",
   "metadata": {},
   "source": [
    "<a id=\"age\"></a>\n",
    "## Age Grouping \n",
    "Create a new column called **age_grouped** that will have 6 numerical values 1 - 7. \n",
    "1. `< 10`\n",
    "2. 10 >= and  <20\n",
    "3. `20 >= and < 30`\n",
    "4. 30 >= and < 40\n",
    "5. `40 >= and < 50`\n",
    "6. 50 >= and < 60\n",
    "7. `> 60`\n",
    "\n",
    "After adding the column `age_grouped` there does not appear to be any particular age group more or less likely to miss an appointment.  There is not a particular age group that had a significantly higher or lower score compared across all age groups.  "
   ]
  },
  {
   "cell_type": "code",
   "execution_count": 164,
   "metadata": {
    "code_folding": []
   },
   "outputs": [
    {
     "name": "stdout",
     "output_type": "stream",
     "text": [
      "7 << >> 62\n",
      "6 << >> 56\n",
      "7 << >> 62\n",
      "1 << >> 8\n",
      "6 << >> 56\n",
      "7 << >> 76\n",
      "3 << >> 23\n",
      "4 << >> 39\n",
      "3 << >> 21\n",
      "2 << >> 19\n"
     ]
    }
   ],
   "source": [
    "## Add Column \n",
    "age_group_list = []\n",
    "for i in range(len(df['age'])):\n",
    "    age = df.loc[i,'age']\n",
    "    if age < 10:\n",
    "        age_group_list.append(1)\n",
    "    elif age >= 10 and age < 20:\n",
    "        age_group_list.append(2)\n",
    "    elif age >= 20 and age < 30:\n",
    "        age_group_list.append(3)\n",
    "    elif age >= 30 and age < 40:\n",
    "        age_group_list.append(4)\n",
    "    elif age >= 40 and age < 50:\n",
    "        age_group_list.append(5)\n",
    "    elif age >= 50 and age < 60:\n",
    "        age_group_list.append(6)\n",
    "    else:\n",
    "        age_group_list.append(7)\n",
    "        \n",
    "# Validation check        \n",
    "for i in range(10):\n",
    "    print(f\"{age_group_list[i]} << >> {df.loc[i,'age']}\")"
   ]
  },
  {
   "cell_type": "code",
   "execution_count": 165,
   "metadata": {
    "code_folding": []
   },
   "outputs": [
    {
     "name": "stdout",
     "output_type": "stream",
     "text": [
      "7    21173\n",
      "1    17476\n",
      "6    15863\n",
      "4    15171\n",
      "5    14209\n",
      "3    13699\n",
      "2    12936\n",
      "Name: age_grouped, dtype: int64\n",
      "Total should be 110,527: Total is >> 110527\n"
     ]
    }
   ],
   "source": [
    "# Add column new age_grouped\n",
    "df['age_grouped'] = age_group_list\n",
    "# Validate counts by new grouping\n",
    "print(df['age_grouped'].value_counts())\n",
    "print(f\"Total should be 110,527: Total is >> {df['age_grouped'].value_counts().sum()}\")"
   ]
  },
  {
   "cell_type": "code",
   "execution_count": 166,
   "metadata": {
    "code_folding": []
   },
   "outputs": [
    {
     "name": "stdout",
     "output_type": "stream",
     "text": [
      "{'< 10': 3484, '10-19': 3257, '20-29': 3380, '30-39': 3300, '40-49': 2880, '50-59': 2776, '> 60': 3242}\n",
      "{'< 10': 13992, '10-19': 9679, '20-29': 10319, '30-39': 11871, '40-49': 11329, '50-59': 13087, '> 60': 17931}\n"
     ]
    }
   ],
   "source": [
    "# Run Numbers \n",
    "keys = ['< 10','10-19','20-29','30-39','40-49','50-59','> 60']\n",
    "made_it_yes_age = {'< 10':'','10-19':'','20-29':'','30-39':'','40-49':'','50-59':'','> 60':''}\n",
    "made_it_no_age = {'< 10':'','10-19':'','20-29':'','30-39':'','40-49':'','50-59':'','> 60':''}\n",
    "# First loop through age_grouped looking for all 1's that made it and missed...then 2's\n",
    "for i in range(1,8):\n",
    "    count_y = 0\n",
    "    count_n = 0\n",
    "    \n",
    "    for j in range(len(df['age_grouped'])):\n",
    "        if df.loc[j,'age_grouped'] == i and df.loc[j,'made_appt_yes=1_no=0'] == 1:\n",
    "            count_y += 1\n",
    "        if df.loc[j,'age_grouped'] == i and df.loc[j,'made_appt_yes=1_no=0'] == 0:\n",
    "            count_n += 1\n",
    "            \n",
    "    made_it_yes_age[keys[i -1]] = count_y\n",
    "    made_it_no_age[keys[i -1]] = count_n\n",
    "\n",
    "print(made_it_yes_age)\n",
    "print(made_it_no_age)"
   ]
  },
  {
   "cell_type": "code",
   "execution_count": 167,
   "metadata": {
    "code_folding": []
   },
   "outputs": [
    {
     "name": "stdout",
     "output_type": "stream",
     "text": [
      "Total for < 10 is 17476\n",
      "Percent MISS for age group: < 10 is 80.06\n",
      "\n",
      "Total for 10-19 is 12936\n",
      "Percent MISS for age group: 10-19 is 74.82\n",
      "\n",
      "Total for 20-29 is 13699\n",
      "Percent MISS for age group: 20-29 is 75.33\n",
      "\n",
      "Total for 30-39 is 15171\n",
      "Percent MISS for age group: 30-39 is 78.25\n",
      "\n",
      "Total for 40-49 is 14209\n",
      "Percent MISS for age group: 40-49 is 79.73\n",
      "\n",
      "Total for 50-59 is 15863\n",
      "Percent MISS for age group: 50-59 is 82.5\n",
      "\n",
      "Total for > 60 is 21173\n",
      "Percent MISS for age group: > 60 is 84.69\n",
      "\n",
      "110527\n",
      "[3484, 3257, 3380, 3300, 2880, 2776, 3242]\n",
      "[13992, 9679, 10319, 11871, 11329, 13087, 17931]\n"
     ]
    }
   ],
   "source": [
    "# validate numbers\n",
    "yes_y_axis = []\n",
    "no_y_axis = []\n",
    "count = 0\n",
    "total = 0\n",
    "for i in range(len(made_it_yes_age)):\n",
    "    name = keys[i]\n",
    "    yes = made_it_yes_age[name]\n",
    "    no = made_it_no_age[name]\n",
    "    print(f\"Total for {name} is {int(yes) + int(no)}\")\n",
    "    print(f\"Percent MISS for age group: {name} is {round(no / (int(yes) + int(no))*100,2)}\\n\")\n",
    "    total = yes + no\n",
    "    count += total\n",
    "    yes_y_axis.append(yes)\n",
    "    no_y_axis.append(no)\n",
    "print(count)\n",
    "print(yes_y_axis)\n",
    "print(no_y_axis)"
   ]
  },
  {
   "cell_type": "code",
   "execution_count": 168,
   "metadata": {
    "code_folding": []
   },
   "outputs": [
    {
     "data": {
      "image/png": "[encoded data removed]",
      "text/plain": [
       "<Figure size 864x504 with 1 Axes>"
      ]
     },
     "metadata": {
      "needs_background": "light"
     },
     "output_type": "display_data"
    }
   ],
   "source": [
    "# bar chart\n",
    "labels = keys\n",
    "x = np.arange(len(labels)) # This returns array evenly spaced values \n",
    "width = 0.35 # Width of bars\n",
    "\n",
    "fig, ax = plt.subplots()\n",
    "ax.bar(x - width/2, yes_y_axis,width,label=\"Made Appt\",color='pink')\n",
    "ax.bar(x + width/2, no_y_axis, width,label=\"Missed Appt\",color = (.68, .85, .90)) \n",
    "\n",
    "ax.set_ylabel(\"Appointments\",fontsize=18,fontweight='bold')\n",
    "ax.set_title(\"Made & Missed Appointments by Age Group\",fontsize=18,fontweight='bold')\n",
    "ax.set_xticks(x)\n",
    "ax.set_xticklabels(labels,fontsize=12,fontweight='bold')\n",
    "ax.legend()\n",
    "fig.set_size_inches(12,7)\n",
    "ax.grid(axis='y',alpha=0.5)\n",
    "plt.show()"
   ]
  },
  {
   "cell_type": "markdown",
   "metadata": {},
   "source": [
    "<a id=\"mun\"></a>\n",
    "## Municipalities of Brazil\n",
    "\n",
    "After a detailed analysis of `'appt_location'` all of the neighborhoods/municipalities are within `one` of the 27 states (State of Espirito Santo, Brazil). Finding economic information at that level of detail is difficult. The time spent might not be worth the potential returns.  Additional review can be completed if there seems to be a trend in the data indicating appointment location will provide insight into predicting if a patient will or will not attend a scheduled appointment. \n",
    "\n",
    "**Wikipedia.org**\n",
    "1. Provides list of 27 states and all municipalities \n",
    "https://en.wikipedia.org/wiki/Municipalities_of_Brazil\n",
    "\n",
    "**GDP per Capita (R, 2012) by State**\n",
    "1. https://www.worldatlas.com/articles/the-richest-and-poorest-states-of-brazil.html"
   ]
  },
  {
   "cell_type": "markdown",
   "metadata": {},
   "source": [
    "<a id=\"sms\"></a>\n",
    "## SMS Messages Sent "
   ]
  },
  {
   "cell_type": "markdown",
   "metadata": {},
   "source": [
    "Of the `110,527 appointments` a text message was `sent 35,482 times`. There was a total of 74,045 patients that did not receive a text message.  The total number of appointments `MADE was 22,319` which is only **13,163** less (35,482 - 22,319). The next step will be to filter the data and understand how many messages sent resulted in the appointment being made."
   ]
  },
  {
   "cell_type": "code",
   "execution_count": 169,
   "metadata": {},
   "outputs": [
    {
     "name": "stdout",
     "output_type": "stream",
     "text": [
      "Sent >> \t35482\n",
      "Not Sent >> \t75045\n",
      "Total >> \t110527\n"
     ]
    }
   ],
   "source": [
    "sent = df[df['sms_sent']== 1].count()['sms_sent']\n",
    "not_sent = df[df['sms_sent']== 0].count()['sms_sent']\n",
    "print(f\"Sent >> \\t{sent}\\nNot Sent >> \\t{not_sent}\\nTotal >> \\t{sent+not_sent}\")"
   ]
  },
  {
   "cell_type": "code",
   "execution_count": 170,
   "metadata": {},
   "outputs": [
    {
     "name": "stdout",
     "output_type": "stream",
     "text": [
      "Number of appointments made when a message was sent: >> 9784\n",
      "That is a percentage of: 27.57\n"
     ]
    }
   ],
   "source": [
    "df_sent = df.query('sms_sent == 1')\n",
    "df_sent_made = df_sent[df_sent['made_appt_yes=1_no=0'] == 1]\n",
    "made_plus_sms = df_sent_made['made_appt_yes=1_no=0'].sum()\n",
    "print(f\"Number of appointments made when a message was sent: >> {made_plus_sms}\")\n",
    "print(f\"That is a percentage of: {round(made_plus_sms/sent*100,2)}\")"
   ]
  },
  {
   "cell_type": "markdown",
   "metadata": {},
   "source": [
    "## Sending a Text Message \n",
    "Sending a text message resulted in `27.57%` of the **appointments being made**. However, we do not know what percentage of those people would have made the appointment regardless of receiving a message. Ideally, we would need to conduct a trial of similar sample size where `everyone received a text message`.  If the percentage of missed appointments drops then it is more likely a result of the text messages being sent. "
   ]
  },
  {
   "cell_type": "markdown",
   "metadata": {},
   "source": [
    "<a id=\"appt_sch\"></a>\n",
    "## Appointments Scheduled by Patient ID \n",
    "Next, lets take a look at the number of appointments each individual made for this data set.  We can then determine of the total number of appointments made how many did that patient actually make.  First, create a new column called `df_appt` that will have two columns: `patient_id` and `made_appt_yes=1_no=0'`. Then by grouping on 'patient_id' this will allow for quick addition of three new columns:\n",
    "\n",
    "1. **num_appts_scheduled** There are 44 unique values for this grouping with a minimum of 1 and a maximum of 88.\n",
    "2. **num_appts_made** The number of appointments attended by the patient. e.g., scheduled 88 attended/made 1\n",
    "3. **appt_made_percent** This will be the percent of appointments attended by patient"
   ]
  },
  {
   "cell_type": "code",
   "execution_count": 171,
   "metadata": {
    "code_folding": []
   },
   "outputs": [
    {
     "data": {
      "text/html": [
       "<div>\n",
       "<style scoped>\n",
       "    .dataframe tbody tr th:only-of-type {\n",
       "        vertical-align: middle;\n",
       "    }\n",
       "\n",
       "    .dataframe tbody tr th {\n",
       "        vertical-align: top;\n",
       "    }\n",
       "\n",
       "    .dataframe thead th {\n",
       "        text-align: right;\n",
       "    }\n",
       "</style>\n",
       "<table border=\"1\" class=\"dataframe\">\n",
       "  <thead>\n",
       "    <tr style=\"text-align: right;\">\n",
       "      <th></th>\n",
       "      <th>num_appts_scheduled</th>\n",
       "      <th>num_appts_made</th>\n",
       "      <th>appt_made_percent</th>\n",
       "    </tr>\n",
       "    <tr>\n",
       "      <th>patient_id</th>\n",
       "      <th></th>\n",
       "      <th></th>\n",
       "      <th></th>\n",
       "    </tr>\n",
       "  </thead>\n",
       "  <tbody>\n",
       "    <tr>\n",
       "      <th>822145925426128</th>\n",
       "      <td>88</td>\n",
       "      <td>1</td>\n",
       "      <td>1.0</td>\n",
       "    </tr>\n",
       "  </tbody>\n",
       "</table>\n",
       "</div>"
      ],
      "text/plain": [
       "                 num_appts_scheduled  num_appts_made  appt_made_percent\n",
       "patient_id                                                             \n",
       "822145925426128                   88               1                1.0"
      ]
     },
     "execution_count": 171,
     "metadata": {},
     "output_type": "execute_result"
    }
   ],
   "source": [
    "#pd.set_option('display.max_rows',10000)\n",
    "df_appt = df[['patient_id','made_appt_yes=1_no=0']]\n",
    "# df_appt = df_appt.groupby('patient_id').agg({'made_appt_yes=1_no=0':['count',sum]})\n",
    "df_appt = df_appt.groupby('patient_id',as_index=True).agg(\n",
    "                num_appts_scheduled=pd.NamedAgg(column='made_appt_yes=1_no=0',aggfunc='count'),\n",
    "                num_appts_made=pd.NamedAgg(column='made_appt_yes=1_no=0',aggfunc=sum))\n",
    "df_appt['appt_made_percent'] = round(df_appt['num_appts_made'] / df_appt['num_appts_scheduled']*100,0)\n",
    "df_appt.query('appt_made_percent == 1.')"
   ]
  },
  {
   "cell_type": "markdown",
   "metadata": {},
   "source": [
    "<a id=\"appt_sch_grp\"></a>\n",
    "## Number of Appointments Scheduled by Grouping\n",
    "To explore a little deeper into the appointments scheduled a feature will be added to the main dataframe `df` called, **'appt_sched_grp'**. Each grouping will be assigned a value from 1 to 7, as described below. Then the correlation can be checked between this new feature and whether or not the appointment was attended/made.  \n",
    "\n",
    "1. Patients that scheduled 1 appointment \n",
    "2. Patients that scheduled 2 appointment \n",
    "3. Patients that scheduled 3 appointment \n",
    "4. Patients that scheduled 4 appointment \n",
    "5. Patients that scheduled 5 appointment \n",
    "6. Patients that scheduled 6 to 10 appointments \n",
    "7. Patients that scheduled more than 10 appointments "
   ]
  },
  {
   "cell_type": "code",
   "execution_count": 172,
   "metadata": {
    "code_folding": []
   },
   "outputs": [
    {
     "name": "stdout",
     "output_type": "stream",
     "text": [
      "[1, 2, 3, 4, 5, 6, 7, 8, 9, 10, 11, 12, 13, 14, 15, 16, 17, 18, 19, 20, 21, 22, 23, 24, 29, 30, 33, 34, 35, 37, 38, 40, 42, 46, 50, 51, 54, 55, 57, 62, 65, 70, 84, 88]\n",
      "44\n"
     ]
    }
   ],
   "source": [
    "# List number of appointments scheduled \n",
    "a = list(df_appt['num_appts_scheduled'].unique())\n",
    "a.sort()\n",
    "print(a)\n",
    "print(len(df_appt['num_appts_scheduled'].unique()))\n",
    "#print(df_appt['num_appts_scheduled'].value_counts())"
   ]
  },
  {
   "cell_type": "code",
   "execution_count": 173,
   "metadata": {
    "code_folding": []
   },
   "outputs": [
    {
     "name": "stdout",
     "output_type": "stream",
     "text": [
      "1 << >> 1\n",
      "1 << >> 1\n",
      "1 << >> 1\n",
      "1 << >> 1\n",
      "1 << >> 1\n",
      "1 << >> 1\n",
      "1 << >> 1\n",
      "2 << >> 2\n",
      "2 << >> 2\n",
      "1 << >> 1\n"
     ]
    }
   ],
   "source": [
    "# Add a column 'appt_sched_grp'\n",
    "\n",
    "## Add Column \n",
    "appt_sched_grp_list = []\n",
    "for i in range(len(df_appt['num_appts_scheduled'])):\n",
    "    num_sched = df_appt.iloc[i,0]\n",
    "    if num_sched == 1:\n",
    "        appt_sched_grp_list.append(1)\n",
    "    elif num_sched == 2:\n",
    "        appt_sched_grp_list.append(2)\n",
    "    elif num_sched == 3:\n",
    "        appt_sched_grp_list.append(3)\n",
    "    elif num_sched == 4:\n",
    "        appt_sched_grp_list.append(4)\n",
    "    elif num_sched == 5:\n",
    "        appt_sched_grp_list.append(5)\n",
    "    elif num_sched >= 6 and  num_sched <= 10:\n",
    "        appt_sched_grp_list.append(6)\n",
    "    elif num_sched > 10:\n",
    "        appt_sched_grp_list.append(7)\n",
    "    else:\n",
    "        print(f\"num_sched is >>> {num_sched}\")\n",
    "        \n",
    "        \n",
    "# Convert the df_appt index to a list. This is proper order \n",
    "# of patient_id values \n",
    "df_appt_index_list = list(df_appt.index)\n",
    "\n",
    "# Validation check        \n",
    "for i in range(10):\n",
    "    print(f\"{appt_sched_grp_list[i]} << >> {df_appt.iloc[i,0]}\")"
   ]
  },
  {
   "cell_type": "code",
   "execution_count": 174,
   "metadata": {
    "code_folding": []
   },
   "outputs": [],
   "source": [
    "def convert_dict(list_1,list_2):\n",
    "    '''Take two lists as arguments and convert them to a dictionary.\n",
    "    list_1 will be the keys and list_2 will be the values\n",
    "    **NOTE: Lists must be same length and index 0 to last index must be correct \n",
    "    key : value pairing'''\n",
    "    converted_to_dict = dict(zip(list_1,list_2))\n",
    "    return converted_to_dict"
   ]
  },
  {
   "cell_type": "code",
   "execution_count": 175,
   "metadata": {
    "code_folding": []
   },
   "outputs": [
    {
     "name": "stdout",
     "output_type": "stream",
     "text": [
      "Confirm length of dictionary and list match:\n",
      "Length of df_appt_index_list >> 62299\n",
      "Length of appt_sched_grp_list >> 62299\n",
      "Length of appt_sched_grp_dict >> 62299\n"
     ]
    }
   ],
   "source": [
    "# Custom function covert lists to dict\n",
    "appt_sched_grp_dict = convert_dict(df_appt_index_list,appt_sched_grp_list)\n",
    "\n",
    "print(\"Confirm length of dictionary and list match:\")\n",
    "print(f\"Length of df_appt_index_list >> {len(df_appt_index_list)}\\n\" \n",
    "      f\"Length of appt_sched_grp_list >> {len(appt_sched_grp_list)}\\n\"\n",
    "      f\"Length of appt_sched_grp_dict >> {len(appt_sched_grp_dict)}\")"
   ]
  },
  {
   "cell_type": "code",
   "execution_count": 176,
   "metadata": {
    "code_folding": []
   },
   "outputs": [],
   "source": [
    "# Create and add column 'appt_sched_grp' to df\n",
    "# Need to match patinet_id with correct grouping (use appt_sched_grp_dict)\n",
    "\n",
    "for i in range(len(df['patient_id'])):\n",
    "    p_id = df.loc[i,'patient_id']\n",
    "    df.loc[i,'appt_sched_grp'] = appt_sched_grp_dict[p_id]\n",
    "    #print(f\"p_id = {p_id} <<>> Dict Value is: {appt_sched_grp_dict[p_id]}\")"
   ]
  },
  {
   "cell_type": "code",
   "execution_count": 177,
   "metadata": {
    "code_folding": []
   },
   "outputs": [],
   "source": [
    "# Use to spot check new grouping is correct\n",
    "#appt_sched_grp_dict[1711618823]\n"
   ]
  },
  {
   "cell_type": "code",
   "execution_count": 178,
   "metadata": {
    "code_folding": []
   },
   "outputs": [],
   "source": [
    "# Use to spot check in combination with above \n",
    "#df.query('patient_id == 1711618823')"
   ]
  },
  {
   "cell_type": "code",
   "execution_count": 179,
   "metadata": {},
   "outputs": [
    {
     "name": "stdout",
     "output_type": "stream",
     "text": [
      "1.0\n"
     ]
    }
   ],
   "source": [
    "print(df['appt_sched_grp'].min())"
   ]
  },
  {
   "cell_type": "code",
   "execution_count": 180,
   "metadata": {
    "scrolled": true
   },
   "outputs": [
    {
     "name": "stdout",
     "output_type": "stream",
     "text": [
      "1.0    37920\n",
      "2.0    27790\n",
      "3.0    16500\n",
      "4.0     9468\n",
      "6.0     8862\n",
      "5.0     5595\n",
      "7.0     4392\n",
      "Name: appt_sched_grp, dtype: int64\n",
      "The median for percent made: 2.0\n",
      "The mean for percent made: 2.6487916979561557\n"
     ]
    }
   ],
   "source": [
    "print(df['appt_sched_grp'].value_counts())\n",
    "print(f\"The median for percent made: {df['appt_sched_grp'].median()}\")\n",
    "print(f\"The mean for percent made: {df['appt_sched_grp'].mean()}\")"
   ]
  },
  {
   "cell_type": "markdown",
   "metadata": {},
   "source": [
    "<a id=\"appt_sch_anal\"></a>\n",
    "## Analysis of Appointment Scheduled Grouping \n",
    "The column **'appt_sched_grp'** was added and plotted on the below histogram. The long right tail with a `mean > median` indicates the data is skewed right (positively skewed). The more appointments scheduled the lower the frequency.  Out of 105k samples about 40k of the patients only scheduled 1 appointment and the mean for this sample was 2.5 indicating that an average of 2 visits per patient. "
   ]
  },
  {
   "cell_type": "code",
   "execution_count": 181,
   "metadata": {
    "code_folding": []
   },
   "outputs": [
    {
     "data": {
      "image/png": "[encoded data removed]",
      "text/plain": [
       "<Figure size 720x288 with 1 Axes>"
      ]
     },
     "metadata": {
      "needs_background": "light"
     },
     "output_type": "display_data"
    }
   ],
   "source": [
    "####\n",
    "InteractiveShell.ast_node_interactivity = \"none\" # \"last_expr\" \"all\" \"none\"\n",
    "fig, ax = plt.subplots(figsize=(10,4))\n",
    "col_name = 'appt_sched_grp'\n",
    "title = 'Number of Appointments Scheduled'\n",
    "labels = ['1', '2', '3', '4', '5', ' 6 - 10', '> 10']\n",
    "bins = np.arange(8) +0.5\n",
    "\n",
    "plt.hist(df[col_name],facecolor=(.68, .85, .90),edgecolor='green',\n",
    "        linewidth=2,linestyle='--',bins=bins,align='mid')\n",
    "\n",
    "ax.set_title(title,fontsize=14,fontweight='bold')\n",
    "ax.set_ylabel('Frequency',fontsize=14,fontweight='bold')\n",
    "ax.set_xlabel(col_name,fontsize=14,fontweight='bold')\n",
    "ax.set_xticklabels(labels,fontsize=12,horizontalalignment='center')\n",
    "\n",
    "plt.axvline(df[col_name].mean(),color='k',linestyle='--',lw=4,label='Mean') # Mean\n",
    "plt.axvline(df[col_name].median(),color='r',linestyle='-.',lw=4,label='Meadian') # Meadian \n",
    "plt.xlim([1,8])\n",
    "plt.grid(axis='y',alpha=0.5)\n",
    "plt.legend()\n",
    "plt.show()\n",
    "#https://stackoverflow.com/questions/27083051/matplotlib-xticks-not-lining-up-with-histogram"
   ]
  },
  {
   "cell_type": "code",
   "execution_count": 182,
   "metadata": {},
   "outputs": [
    {
     "name": "stdout",
     "output_type": "stream",
     "text": [
      "Index(['patient_id', 'appt_id', 'appt_day', 'appt_made', 'age',\n",
      "       'appt_location', 'financial_aid', 'hypertension', 'diabetes',\n",
      "       'alcoholism', 'handicap', 'sms_sent', 'gender_f=1_m=0',\n",
      "       'made_appt_yes=1_no=0', 'age_grouped', 'appt_sched_grp'],\n",
      "      dtype='object')\n"
     ]
    }
   ],
   "source": [
    "print(df.columns)"
   ]
  },
  {
   "cell_type": "markdown",
   "metadata": {},
   "source": [
    "## Percentage & Count for Made & Missed by Appointment Grouping\n",
    "For this analysis we used the number of appointments, by grouping, and counted the number of `Made Appointments` and `Missed Appointments`. Then converted to a percentage for each grouping. The patients that scheduled **6 to 10 appointments** had the **highest** percentage of made appointments while those that schedule *more than 10* had the **lowest**. Overall, the number of appointments made by patient is `not a strong indicator` on whether or not the patient will make the appointment.    "
   ]
  },
  {
   "cell_type": "code",
   "execution_count": 183,
   "metadata": {
    "code_folding": [
     10
    ]
   },
   "outputs": [
    {
     "name": "stdout",
     "output_type": "stream",
     "text": [
      "Validate the count is correct should equal 110,527: 110527\n"
     ]
    }
   ],
   "source": [
    "# For each grouping 1 - 7 ('appt_sched_grp') count the number of mades (1) and misses (0)\n",
    "# Convert each count to a percent based on grouping total\n",
    "made_1, made_2, made_3, made_4, made_5, made_6, made_7 = 0,0,0,0,0,0,0\n",
    "missed_1, missed_2, missed_3, missed_4, missed_5, missed_6, missed_7 = 0,0,0,0,0,0,0\n",
    "\n",
    "for i in range(len(df['appt_sched_grp'])):\n",
    "    \n",
    "    num_sched = df.loc[i,'appt_sched_grp']\n",
    "    yes1_no0 = df.loc[i,'made_appt_yes=1_no=0']\n",
    "    \n",
    "    if yes1_no0 == 1:\n",
    "        if num_sched == 1:\n",
    "            made_1 += 1\n",
    "        elif num_sched == 2:\n",
    "            made_2 += 1\n",
    "        elif num_sched == 3:\n",
    "            made_3 += 1\n",
    "        elif num_sched == 4:\n",
    "            made_4 += 1\n",
    "        elif num_sched == 5:\n",
    "            made_5 += 1\n",
    "        elif num_sched == 6:\n",
    "            made_6 += 1\n",
    "        elif num_sched == 7:\n",
    "            made_7 += 1\n",
    "        else:\n",
    "            print(f\"num_sched is >>> {num_sched}\")\n",
    "            \n",
    "    if yes1_no0 == 0:\n",
    "        if num_sched == 1:\n",
    "            missed_1 += 1\n",
    "        elif num_sched == 2:\n",
    "            missed_2 += 1\n",
    "        elif num_sched == 3:\n",
    "            missed_3 += 1\n",
    "        elif num_sched == 4:\n",
    "            missed_4 += 1\n",
    "        elif num_sched == 5:\n",
    "            missed_5 += 1\n",
    "        elif num_sched == 6:\n",
    "            missed_6 += 1\n",
    "        elif num_sched == 7:\n",
    "            missed_7 += 1\n",
    "        else:\n",
    "            print(f\"num_sched is >>> {num_sched}\")\n",
    "            \n",
    "made_count = np.array([made_1, made_2, made_3, made_4, made_5, made_6, made_7])\n",
    "missed_count = np.array([missed_1, missed_2, missed_3, missed_4, missed_5, missed_6, missed_7])\n",
    "sum_made_missed = made_count + missed_count\n",
    "made_percent = made_count / sum_made_missed\n",
    "missed_percent = missed_count / sum_made_missed\n",
    "#print(missed_percent)\n",
    "#print(sum_made_missed)\n",
    "#print(sum(sum_made_missed))\n",
    "print(f\"Validate the count is correct should equal 110,527: {sum(made_count) + sum(missed_count)}\")"
   ]
  },
  {
   "cell_type": "code",
   "execution_count": 184,
   "metadata": {
    "code_folding": []
   },
   "outputs": [
    {
     "data": {
      "image/png": "[encoded data removed]",
      "text/plain": [
       "<Figure size 864x504 with 1 Axes>"
      ]
     },
     "metadata": {
      "needs_background": "light"
     },
     "output_type": "display_data"
    }
   ],
   "source": [
    "# bar chart for PERCENT\n",
    "labels = ['1', '2', '3', '4', '5', ' 6 - 10', '> 10']\n",
    "x = np.arange(len(labels)) # This returns array evenly spaced values \n",
    "width = 0.35 # Width of bars\n",
    "\n",
    "fig, ax = plt.subplots()\n",
    "ax.bar(x - width/2, made_percent,width,label=\"Appt Made by Percent\",color='pink')\n",
    "ax.bar(x + width/2, missed_percent, width,label=\"Appt Missed by Percent\",color = (.68, .85, .90)) \n",
    "\n",
    "ax.set_ylabel(\"Perentage\",fontsize=18,fontweight='bold')\n",
    "ax.set_title(\"Percent Appt Made & Missed by Number Appts Scheduled\",fontsize=18,fontweight='bold')\n",
    "ax.set_xticks(x)\n",
    "ax.set_xticklabels(labels,fontsize=12,fontweight='bold')\n",
    "ax.legend()\n",
    "fig.set_size_inches(12,7)\n",
    "ax.grid(axis='y',alpha=0.5)\n",
    "plt.show()"
   ]
  },
  {
   "cell_type": "code",
   "execution_count": 185,
   "metadata": {
    "code_folding": []
   },
   "outputs": [
    {
     "data": {
      "image/png": "[encoded data removed]",
      "text/plain": [
       "<Figure size 864x504 with 1 Axes>"
      ]
     },
     "metadata": {
      "needs_background": "light"
     },
     "output_type": "display_data"
    }
   ],
   "source": [
    "# bar chart for COUNT\n",
    "labels = ['1', '2', '3', '4', '5', ' 6 - 10', '> 10']\n",
    "#y_labels = [i for i in range(0,90000,2500)]\n",
    "#print(y_labels)\n",
    "x = np.arange(len(labels)) # This returns array evenly spaced values \n",
    "width = 0.35 # Width of bars\n",
    "\n",
    "fig, ax = plt.subplots()\n",
    "ax.bar(x - width/2, made_count,width,label=\"Appt Made by Count\",color='yellow')\n",
    "ax.bar(x + width/2, missed_count, width,label=\"Appt Missed by Count\",color = 'blue') \n",
    "\n",
    "ax.set_ylabel(\"Count\",fontsize=18,fontweight='bold')\n",
    "ax.set_title(\"Appt Made & Missed by Number Appts Scheduled\",fontsize=18,fontweight='bold')\n",
    "ax.set_xticks(x)\n",
    "ax.set_xticklabels(labels,fontsize=12,fontweight='bold')\n",
    "#ax.set_yticklabels(y_labels,fontsize=12,fontweight='bold')\n",
    "ax.legend()\n",
    "fig.set_size_inches(12,7)\n",
    "ax.grid(axis='y',alpha=0.5)\n",
    "plt.show()"
   ]
  },
  {
   "cell_type": "markdown",
   "metadata": {},
   "source": [
    "<a id=\"appt_made\"></a>\n",
    "## Percentage of Appointments Attended/Made\n",
    "Now we want to create another feature that will be added to the main `df`. This will be a another grouping assigned to a numerical value (1 - 5), described below. The new feature added will be called **appt_per_grp** which will be a grouping based on percentage of appointments attended/made. E.g., if patient_id scheduled 3 appointments and only attend 1 they would be assigned the value 3.      \n",
    "\n",
    "1. Percentage Appointments Attended/Made: ' < 10 percent' \n",
    "2. Percentage Appointments Attended/Made: ' 10 >= and < 25 percent'\n",
    "3. Percentage Appointments Attended/Made: ' 25 >= and < 50 percent' \n",
    "4. Percentage Appointments Attended/Made: ' 50 >= and < 75 percent'\n",
    "5. Percentage Appointments Attended/Made: ' > 75 percent'"
   ]
  },
  {
   "cell_type": "code",
   "execution_count": 186,
   "metadata": {
    "code_folding": []
   },
   "outputs": [
    {
     "name": "stdout",
     "output_type": "stream",
     "text": [
      "[0.0, 1.0, 2.0, 3.0, 4.0, 5.0, 6.0, 7.0, 8.0, 9.0, 10.0, 11.0, 12.0, 13.0, 14.0, 15.0, 16.0, 17.0, 18.0, 19.0, 20.0, 21.0, 22.0, 23.0, 25.0, 27.0, 29.0, 30.0, 31.0, 33.0, 36.0, 38.0, 40.0, 41.0, 42.0, 43.0, 44.0, 45.0, 46.0, 47.0, 50.0, 52.0, 53.0, 54.0, 55.0, 56.0, 57.0, 60.0, 61.0, 62.0, 64.0, 67.0, 70.0, 71.0, 73.0, 75.0, 78.0, 80.0, 82.0, 83.0, 86.0, 88.0, 89.0, 92.0, 100.0]\n",
      "65\n"
     ]
    }
   ],
   "source": [
    "# List of percent appoitments attended/made\n",
    "b = list(df_appt['appt_made_percent'].unique())\n",
    "b.sort()\n",
    "print(b)\n",
    "print(len(df_appt['appt_made_percent'].unique()))\n",
    "#print(df_appt['appt_made_percent'].value_counts())"
   ]
  },
  {
   "cell_type": "code",
   "execution_count": 187,
   "metadata": {},
   "outputs": [],
   "source": [
    "df_appt.head(1)"
   ]
  },
  {
   "cell_type": "code",
   "execution_count": 188,
   "metadata": {
    "code_folding": []
   },
   "outputs": [
    {
     "name": "stdout",
     "output_type": "stream",
     "text": [
      "1 << >> 0.0\n",
      "1 << >> 0.0\n",
      "1 << >> 0.0\n",
      "1 << >> 0.0\n",
      "1 << >> 0.0\n"
     ]
    }
   ],
   "source": [
    "# Add a column 'appt_made_percent'\n",
    "appt_made_grp_list = []\n",
    "for i in range(len(df_appt['appt_made_percent'])):\n",
    "    num = df_appt.iloc[i,2]\n",
    "    if num < 10.0:\n",
    "        appt_made_grp_list.append(1)\n",
    "    elif num >= 10.0 and num < 25.0:\n",
    "        appt_made_grp_list.append(2)\n",
    "    elif num >= 25.0 and num < 50.0:\n",
    "        appt_made_grp_list.append(3)\n",
    "    elif num >= 50.0 and num < 75.0:\n",
    "        appt_made_grp_list.append(4)\n",
    "    elif num >= 75.0 and num <= 100.0:\n",
    "        appt_made_grp_list.append(5)\n",
    "    else:\n",
    "        print(f\"num_sched is >>> {num}\")\n",
    "        \n",
    "        \n",
    "# Convert the df_appt index to a list. This is proper order \n",
    "# of patient_id values \n",
    "df_appt_index_list = list(df_appt.index)\n",
    "\n",
    "# Validation check        \n",
    "for i in range(5):\n",
    "    print(f\"{appt_made_grp_list[i]} << >> {df_appt.iloc[i,2]}\")"
   ]
  },
  {
   "cell_type": "code",
   "execution_count": 189,
   "metadata": {
    "code_folding": []
   },
   "outputs": [
    {
     "name": "stdout",
     "output_type": "stream",
     "text": [
      "Confirm length of dictionary and list match:\n",
      "Length of df_appt_index_list >> 62299\n",
      "Length of appt_made_grp_list >> 62299\n",
      "Length of appt_made_grp_dict >> 62299\n"
     ]
    }
   ],
   "source": [
    "# Create the dictionary used to popualte the main df\n",
    "appt_made_grp_dict = convert_dict(df_appt_index_list,appt_made_grp_list)\n",
    "\n",
    "print(\"Confirm length of dictionary and list match:\")\n",
    "print(f\"Length of df_appt_index_list >> {len(df_appt_index_list)}\\n\" \n",
    "      f\"Length of appt_made_grp_list >> {len(appt_made_grp_list)}\\n\"\n",
    "      f\"Length of appt_made_grp_dict >> {len(appt_made_grp_dict)}\")"
   ]
  },
  {
   "cell_type": "code",
   "execution_count": 190,
   "metadata": {
    "code_folding": []
   },
   "outputs": [],
   "source": [
    "# Create and add column 'appt_per_grp' to df\n",
    "# Need to match patinet_id with correct grouping (use appt_sched_grp_dict)\n",
    "\n",
    "for i in range(len(df['patient_id'])):\n",
    "    p_id = df.loc[i,'patient_id']\n",
    "    df.loc[i,'appt_per_grp'] = appt_made_grp_dict[p_id]"
   ]
  },
  {
   "cell_type": "code",
   "execution_count": 191,
   "metadata": {
    "code_folding": []
   },
   "outputs": [],
   "source": [
    "# Check and confirm everything is correct\n",
    "# print(appt_made_grp_dict[29872499824296])\n",
    "# df.query('patient_id == 29872499824296')"
   ]
  },
  {
   "cell_type": "code",
   "execution_count": 192,
   "metadata": {},
   "outputs": [
    {
     "name": "stdout",
     "output_type": "stream",
     "text": [
      "1.0    68845\n",
      "4.0    13352\n",
      "3.0    12487\n",
      "5.0    10418\n",
      "2.0     5425\n",
      "Name: appt_per_grp, dtype: int64\n",
      "The median for percent made: 1.0\n",
      "The mean for percent made: 2.014476100862233\n"
     ]
    }
   ],
   "source": [
    "print(df['appt_per_grp'].value_counts())\n",
    "print(f\"The median for percent made: {df['appt_per_grp'].median()}\")\n",
    "print(f\"The mean for percent made: {df['appt_per_grp'].mean()}\")"
   ]
  },
  {
   "cell_type": "markdown",
   "metadata": {},
   "source": [
    "<a id=\"analysis_appt_made\"></a>\n",
    "## Analysis Percentage of Appointments Attended/Made\n",
    "We already know that based on appointments made only 20% of them are attended. Thus, it is not a surprise to see from the below histogram that 70,000 of the appointments fall into the less than 10% grouping. Instead of exploring that section in more detail it would probably be better investigate the groupings where 50 to 75 percent and 75 to 100% of the appointments have been attended when scheduled. "
   ]
  },
  {
   "cell_type": "code",
   "execution_count": 193,
   "metadata": {
    "code_folding": []
   },
   "outputs": [
    {
     "data": {
      "image/png": "[encoded data removed]",
      "text/plain": [
       "<Figure size 720x288 with 1 Axes>"
      ]
     },
     "metadata": {
      "needs_background": "light"
     },
     "output_type": "display_data"
    }
   ],
   "source": [
    "# Histogram Percentage Appt Made/Missed\n",
    "InteractiveShell.ast_node_interactivity = \"none\" # \"last_expr\" \"all\" \"none\"\n",
    "fig, ax = plt.subplots(figsize=(10,4))\n",
    "col_name = 'appt_per_grp'\n",
    "title = 'Percentage of Appointments Attended/Made'\n",
    "labels = ['< 10%', '10 - 25%', '25 - 50%', '50 - 75%', '75 - 100%']\n",
    "bins = np.arange(6) + 0.5\n",
    "\n",
    "plt.hist(df[col_name],facecolor=(.68, .85, .90),edgecolor='green',\n",
    "        linewidth=2,linestyle='--',bins=bins)\n",
    "\n",
    "ax.set_title(title,fontsize=14,fontweight='bold')\n",
    "ax.set_ylabel('Frequency',fontsize=14,fontweight='bold')\n",
    "ax.set_xlabel(col_name,fontsize=14,fontweight='bold')\n",
    "ax.set_xticklabels(labels,fontsize=12)\n",
    "\n",
    "plt.axvline(df[col_name].mean(),color='k',linestyle='--',lw=4,label='Mean') # Mean\n",
    "plt.axvline(df[col_name].median(),color='r',linestyle='-.',lw=4,label='Meadian') # Meadian \n",
    "#plt.xlim(1,5)\n",
    "plt.grid(axis='y',alpha=0.5)\n",
    "plt.xlim([1,6])\n",
    "plt.legend()\n",
    "plt.show()"
   ]
  },
  {
   "cell_type": "code",
   "execution_count": 194,
   "metadata": {},
   "outputs": [],
   "source": [
    "pd.set_option('display.max_rows',500)\n",
    "from IPython.core.interactiveshell import InteractiveShell\n",
    "InteractiveShell.ast_node_interactivity = \"all\"\n",
    "df.head()"
   ]
  },
  {
   "cell_type": "markdown",
   "metadata": {},
   "source": [
    "<a id=\"add_ana_sched\"></a>\n",
    "## Additional Analysis Appointments Scheduled Grouping\n",
    "Additional analysis of the appointments scheduled did not uncover anything significant. The initial thought was patients who scheduled `more appointments` might have higher attendance rate. However, that is not the case and when adding in other features (SMS, Financial Aid, Hypertension, Alcoholism and Handicap) there is `not` a strong correlation indicating that a patient might miss an appointment. Grouping 7 (> 10 appointments) had a few outliers:\n",
    "\n",
    "1. Text messaging received was around 30% but only 17.5% for more than 10 appointments\n",
    "2. Alcoholism was 13.5% for those with more than 10 appointments compared with others around 2.2 to 4.0%"
   ]
  },
  {
   "cell_type": "code",
   "execution_count": 195,
   "metadata": {
    "code_folding": []
   },
   "outputs": [],
   "source": [
    "# Use groupby on appt_sched_grp\n",
    "df_1 = df.groupby('appt_sched_grp',as_index=True).agg(\n",
    "            count=pd.NamedAgg(column='appt_sched_grp',aggfunc='count'),\n",
    "            mean_percent_made=pd.NamedAgg(column='appt_per_grp',aggfunc='mean'),\n",
    "            mean_age=pd.NamedAgg(column='age',aggfunc='mean'),\n",
    "            count_sms_sent=pd.NamedAgg(column='sms_sent',aggfunc='sum'),\n",
    "            count_fin_aid=pd.NamedAgg(column='financial_aid',aggfunc='sum'),\n",
    "            count_hypertension=pd.NamedAgg(column='hypertension',aggfunc='sum'),\n",
    "            count_alcoholism=pd.NamedAgg(column='alcoholism',aggfunc='sum'),\n",
    "            count_handicap=pd.NamedAgg(column='handicap',aggfunc='sum'))"
   ]
  },
  {
   "cell_type": "code",
   "execution_count": 196,
   "metadata": {
    "code_folding": []
   },
   "outputs": [
    {
     "data": {
      "text/html": [
       "<div>\n",
       "<style scoped>\n",
       "    .dataframe tbody tr th:only-of-type {\n",
       "        vertical-align: middle;\n",
       "    }\n",
       "\n",
       "    .dataframe tbody tr th {\n",
       "        vertical-align: top;\n",
       "    }\n",
       "\n",
       "    .dataframe thead th {\n",
       "        text-align: right;\n",
       "    }\n",
       "</style>\n",
       "<table border=\"1\" class=\"dataframe\">\n",
       "  <thead>\n",
       "    <tr style=\"text-align: right;\">\n",
       "      <th></th>\n",
       "      <th>count</th>\n",
       "      <th>mean_percent_made</th>\n",
       "      <th>mean_age</th>\n",
       "      <th>percent_sms_sent</th>\n",
       "      <th>percent_fin_aid</th>\n",
       "      <th>percent_hypertension</th>\n",
       "      <th>percent_alcoholism</th>\n",
       "      <th>percent_handicap</th>\n",
       "    </tr>\n",
       "    <tr>\n",
       "      <th>appt_sched_grp</th>\n",
       "      <th></th>\n",
       "      <th></th>\n",
       "      <th></th>\n",
       "      <th></th>\n",
       "      <th></th>\n",
       "      <th></th>\n",
       "      <th></th>\n",
       "      <th></th>\n",
       "    </tr>\n",
       "  </thead>\n",
       "  <tbody>\n",
       "    <tr>\n",
       "      <th>1.0</th>\n",
       "      <td>37920</td>\n",
       "      <td>1.750844</td>\n",
       "      <td>36.784415</td>\n",
       "      <td>33.517932</td>\n",
       "      <td>8.723629</td>\n",
       "      <td>19.717827</td>\n",
       "      <td>2.231013</td>\n",
       "      <td>1.914557</td>\n",
       "    </tr>\n",
       "    <tr>\n",
       "      <th>2.0</th>\n",
       "      <td>27790</td>\n",
       "      <td>2.121339</td>\n",
       "      <td>36.286038</td>\n",
       "      <td>32.572868</td>\n",
       "      <td>9.686938</td>\n",
       "      <td>19.431450</td>\n",
       "      <td>2.511695</td>\n",
       "      <td>2.007917</td>\n",
       "    </tr>\n",
       "    <tr>\n",
       "      <th>3.0</th>\n",
       "      <td>16500</td>\n",
       "      <td>2.087818</td>\n",
       "      <td>36.341030</td>\n",
       "      <td>32.345455</td>\n",
       "      <td>10.436364</td>\n",
       "      <td>19.454545</td>\n",
       "      <td>2.600000</td>\n",
       "      <td>2.000000</td>\n",
       "    </tr>\n",
       "    <tr>\n",
       "      <th>4.0</th>\n",
       "      <td>9468</td>\n",
       "      <td>2.432193</td>\n",
       "      <td>36.693283</td>\n",
       "      <td>32.150401</td>\n",
       "      <td>11.111111</td>\n",
       "      <td>19.264892</td>\n",
       "      <td>2.619349</td>\n",
       "      <td>2.239121</td>\n",
       "    </tr>\n",
       "    <tr>\n",
       "      <th>5.0</th>\n",
       "      <td>5595</td>\n",
       "      <td>2.058088</td>\n",
       "      <td>37.853441</td>\n",
       "      <td>33.172475</td>\n",
       "      <td>11.170688</td>\n",
       "      <td>20.017873</td>\n",
       "      <td>3.485255</td>\n",
       "      <td>3.038427</td>\n",
       "    </tr>\n",
       "    <tr>\n",
       "      <th>6.0</th>\n",
       "      <td>8862</td>\n",
       "      <td>2.290115</td>\n",
       "      <td>39.226585</td>\n",
       "      <td>30.557436</td>\n",
       "      <td>11.205146</td>\n",
       "      <td>20.954638</td>\n",
       "      <td>3.904311</td>\n",
       "      <td>3.283683</td>\n",
       "    </tr>\n",
       "    <tr>\n",
       "      <th>7.0</th>\n",
       "      <td>4392</td>\n",
       "      <td>1.826730</td>\n",
       "      <td>43.172814</td>\n",
       "      <td>17.645719</td>\n",
       "      <td>10.678506</td>\n",
       "      <td>20.787796</td>\n",
       "      <td>13.615665</td>\n",
       "      <td>3.916211</td>\n",
       "    </tr>\n",
       "  </tbody>\n",
       "</table>\n",
       "</div>"
      ],
      "text/plain": [
       "                count  mean_percent_made   mean_age  percent_sms_sent  \\\n",
       "appt_sched_grp                                                          \n",
       "1.0             37920           1.750844  36.784415         33.517932   \n",
       "2.0             27790           2.121339  36.286038         32.572868   \n",
       "3.0             16500           2.087818  36.341030         32.345455   \n",
       "4.0              9468           2.432193  36.693283         32.150401   \n",
       "5.0              5595           2.058088  37.853441         33.172475   \n",
       "6.0              8862           2.290115  39.226585         30.557436   \n",
       "7.0              4392           1.826730  43.172814         17.645719   \n",
       "\n",
       "                percent_fin_aid  percent_hypertension  percent_alcoholism  \\\n",
       "appt_sched_grp                                                              \n",
       "1.0                    8.723629             19.717827            2.231013   \n",
       "2.0                    9.686938             19.431450            2.511695   \n",
       "3.0                   10.436364             19.454545            2.600000   \n",
       "4.0                   11.111111             19.264892            2.619349   \n",
       "5.0                   11.170688             20.017873            3.485255   \n",
       "6.0                   11.205146             20.954638            3.904311   \n",
       "7.0                   10.678506             20.787796           13.615665   \n",
       "\n",
       "                percent_handicap  \n",
       "appt_sched_grp                    \n",
       "1.0                     1.914557  \n",
       "2.0                     2.007917  \n",
       "3.0                     2.000000  \n",
       "4.0                     2.239121  \n",
       "5.0                     3.038427  \n",
       "6.0                     3.283683  \n",
       "7.0                     3.916211  "
      ]
     },
     "execution_count": 196,
     "metadata": {},
     "output_type": "execute_result"
    }
   ],
   "source": [
    "# Add percentage columns for sms, fin aid, hyper, alcohol and handicap\n",
    "df_2 = df_1.copy()\n",
    "df_2['percent_sms_sent'] = df_1['count_sms_sent'] / df_1['count'] *100\n",
    "df_2['percent_fin_aid'] = df_1['count_fin_aid'] / df_1['count'] *100\n",
    "df_2['percent_hypertension'] = df_1['count_hypertension'] / df_1['count'] *100\n",
    "df_2['percent_alcoholism'] = df_1['count_alcoholism'] / df_1['count'] *100\n",
    "df_2['percent_handicap'] = df_1['count_handicap'] / df_1['count'] *100\n",
    "df_2.drop(columns=['count_sms_sent','count_fin_aid','count_hypertension','count_alcoholism','count_handicap'],inplace=True)\n",
    "df_2"
   ]
  },
  {
   "cell_type": "markdown",
   "metadata": {},
   "source": [
    "<a id=\"gender\"></a>\n",
    "## Gender Analysis \n",
    "Exploring the relationship between gender and appointments it was found that females accounted for a greater amount of total appointments (about 80/20 split). Additionally, both genders are equally likely to make their respected appointments.  Females `attended 20.31 percent` and `males attended 19.97 percent` of their respected appointments. "
   ]
  },
  {
   "cell_type": "code",
   "execution_count": 197,
   "metadata": {},
   "outputs": [],
   "source": [
    "InteractiveShell.ast_node_interactivity = \"last_expr\" # \"last_expr\" \"all\" \"none\""
   ]
  },
  {
   "cell_type": "code",
   "execution_count": 198,
   "metadata": {
    "code_folding": []
   },
   "outputs": [
    {
     "name": "stdout",
     "output_type": "stream",
     "text": [
      "Females attended 20.31 percent of appointments.\n",
      "Males attended 19.97 percent of appointments.\n"
     ]
    }
   ],
   "source": [
    "# Data crunch for gender analysis \n",
    "total_count_f = df[df['gender_f=1_m=0'] == 1].count()\n",
    "total_count_m = df[df['gender_f=1_m=0'] == 0].count()\n",
    "count_f_made = (df['gender_f=1_m=0'] == 1) & (df['made_appt_yes=1_no=0'] == 1)\n",
    "count_f_missed = (df['gender_f=1_m=0'] == 1) & (df['made_appt_yes=1_no=0'] == 0)\n",
    "count_m_made = (df['gender_f=1_m=0'] == 0) & (df['made_appt_yes=1_no=0'] == 1)\n",
    "count_m_missed = (df['gender_f=1_m=0'] == 0) & (df['made_appt_yes=1_no=0'] == 0)\n",
    "f_made = count_f_made.sum()\n",
    "f_missed = count_f_missed.sum()\n",
    "m_made = count_m_made.sum()\n",
    "m_missed = count_m_missed.sum()\n",
    "# print(f_made)\n",
    "# print(f_missed)\n",
    "# print(m_made)\n",
    "# print(m_missed)\n",
    "#print(f_made + f_missed + m_made + m_missed)\n",
    "print(f\"Females attended {round(f_made / (f_made+f_missed)*100,2)} percent of appointments.\")\n",
    "print(f\"Males attended {round(m_made / (m_made+m_missed)*100,2)} percent of appointments.\")"
   ]
  },
  {
   "cell_type": "code",
   "execution_count": 199,
   "metadata": {
    "code_folding": []
   },
   "outputs": [
    {
     "data": {
      "image/png": "[encoded data removed]",
      "text/plain": [
       "<Figure size 576x648 with 1 Axes>"
      ]
     },
     "metadata": {
      "needs_background": "light"
     },
     "output_type": "display_data"
    }
   ],
   "source": [
    "#####\n",
    "female = [f_made,f_missed]\n",
    "male = [m_made,m_missed]\n",
    "\n",
    "labels = ['Attended', 'Missed']\n",
    "\n",
    "x = np.arange(len(labels)) # This returns array evenly spaced values \n",
    "width = 0.35 # Width of bars\n",
    "\n",
    "fig, ax = plt.subplots()\n",
    "f = ax.bar(x - width/2, female,width,label=\"Female\",color='pink')\n",
    "m = ax.bar(x + width/2, male, width,label=\"Male\",color = (.68, .85, .90)) \n",
    "\n",
    "ax.set_ylabel(\"Frequency\",fontsize=18,fontweight='bold')\n",
    "ax.set_title(\"Gender Made or Missed Appointment \",fontsize=18,fontweight='bold')\n",
    "ax.set_xticks(x)\n",
    "ax.set_xticklabels(labels,fontsize=12,fontweight='bold')\n",
    "\n",
    "ax.legend()\n",
    "fig.set_size_inches(8,9)\n",
    "plt.show()"
   ]
  },
  {
   "cell_type": "markdown",
   "metadata": {},
   "source": [
    "<a id=\"days\"></a>\n",
    "## Days between Appointment Day & Scheduled Day \n",
    "1. **appt_day** is the date the patient is scheduled to visit office\n",
    "2. **appt_made** is the day the patient called to schedule the appointment\n",
    "\n",
    "Add a column called `'days_between_appt'` where **0** indicates the patient made the appointment on same day and anything greater would be days between scheduled and actual. The maximum number of days (scheduled in advance is 179 days and the minimum is -6 days. There are 5 days with a negative value. Assuming this was an error or back filled information. For these days the appt_made will be adjusted to match the appt_day generating 0 difference.  \n",
    "\n",
    "**Days Between Appointment Schedule and Actual Appointment Day**\n",
    "For all patients that `made their scheduled appointment` the `mean` number of days between the day it was scheduled and actual day of appointment was `16 days`. For patents that did `NOT` make the scheduled appointment the mean number of days was `9`.  "
   ]
  },
  {
   "cell_type": "code",
   "execution_count": 200,
   "metadata": {
    "code_folding": []
   },
   "outputs": [],
   "source": [
    "# Remove the timestamp with dt.date (Note still dateime format)\n",
    "df['appt_day'] = pd.to_datetime(df['appt_day']).dt.date\n",
    "df['appt_made'] = pd.to_datetime(df['appt_made']).dt.date"
   ]
  },
  {
   "cell_type": "code",
   "execution_count": 201,
   "metadata": {
    "code_folding": []
   },
   "outputs": [
    {
     "data": {
      "text/html": [
       "<div>\n",
       "<style scoped>\n",
       "    .dataframe tbody tr th:only-of-type {\n",
       "        vertical-align: middle;\n",
       "    }\n",
       "\n",
       "    .dataframe tbody tr th {\n",
       "        vertical-align: top;\n",
       "    }\n",
       "\n",
       "    .dataframe thead th {\n",
       "        text-align: right;\n",
       "    }\n",
       "</style>\n",
       "<table border=\"1\" class=\"dataframe\">\n",
       "  <thead>\n",
       "    <tr style=\"text-align: right;\">\n",
       "      <th></th>\n",
       "      <th>patient_id</th>\n",
       "      <th>appt_id</th>\n",
       "      <th>appt_day</th>\n",
       "      <th>appt_made</th>\n",
       "      <th>age</th>\n",
       "      <th>appt_location</th>\n",
       "      <th>financial_aid</th>\n",
       "      <th>hypertension</th>\n",
       "      <th>diabetes</th>\n",
       "      <th>alcoholism</th>\n",
       "      <th>handicap</th>\n",
       "      <th>sms_sent</th>\n",
       "      <th>gender_f=1_m=0</th>\n",
       "      <th>made_appt_yes=1_no=0</th>\n",
       "      <th>age_grouped</th>\n",
       "      <th>appt_sched_grp</th>\n",
       "      <th>appt_per_grp</th>\n",
       "      <th>days_between_appt</th>\n",
       "    </tr>\n",
       "  </thead>\n",
       "  <tbody>\n",
       "    <tr>\n",
       "      <th>0</th>\n",
       "      <td>29872499824296</td>\n",
       "      <td>5642903</td>\n",
       "      <td>2016-04-29</td>\n",
       "      <td>2016-04-29</td>\n",
       "      <td>62</td>\n",
       "      <td>JARDIM DA PENHA</td>\n",
       "      <td>0</td>\n",
       "      <td>1</td>\n",
       "      <td>0</td>\n",
       "      <td>0</td>\n",
       "      <td>0</td>\n",
       "      <td>0</td>\n",
       "      <td>1</td>\n",
       "      <td>0</td>\n",
       "      <td>7</td>\n",
       "      <td>2.0</td>\n",
       "      <td>1.0</td>\n",
       "      <td>0 days</td>\n",
       "    </tr>\n",
       "  </tbody>\n",
       "</table>\n",
       "</div>"
      ],
      "text/plain": [
       "       patient_id  appt_id    appt_day   appt_made  age    appt_location  \\\n",
       "0  29872499824296  5642903  2016-04-29  2016-04-29   62  JARDIM DA PENHA   \n",
       "\n",
       "   financial_aid  hypertension  diabetes  alcoholism  handicap  sms_sent  \\\n",
       "0              0             1         0           0         0         0   \n",
       "\n",
       "   gender_f=1_m=0  made_appt_yes=1_no=0  age_grouped  appt_sched_grp  \\\n",
       "0               1                     0            7             2.0   \n",
       "\n",
       "   appt_per_grp days_between_appt  \n",
       "0           1.0            0 days  "
      ]
     },
     "execution_count": 201,
     "metadata": {},
     "output_type": "execute_result"
    }
   ],
   "source": [
    "# Add a column called 'days_between_appt'\n",
    "df['days_between_appt'] = df['appt_made'] - df['appt_day']\n",
    "df.head(1)"
   ]
  },
  {
   "cell_type": "code",
   "execution_count": 202,
   "metadata": {
    "code_folding": []
   },
   "outputs": [
    {
     "name": "stdout",
     "output_type": "stream",
     "text": [
      "Minimum number of days -6 days +00:00:00\n",
      "Maximum number of days 179 days 00:00:00\n"
     ]
    }
   ],
   "source": [
    "# Min and Max days\n",
    "print(f\"Minimum number of days {df['days_between_appt'].min()}\")\n",
    "print(f\"Maximum number of days {df['days_between_appt'].max()}\")"
   ]
  },
  {
   "cell_type": "code",
   "execution_count": 203,
   "metadata": {
    "code_folding": []
   },
   "outputs": [
    {
     "data": {
      "text/html": [
       "<div>\n",
       "<style scoped>\n",
       "    .dataframe tbody tr th:only-of-type {\n",
       "        vertical-align: middle;\n",
       "    }\n",
       "\n",
       "    .dataframe tbody tr th {\n",
       "        vertical-align: top;\n",
       "    }\n",
       "\n",
       "    .dataframe thead th {\n",
       "        text-align: right;\n",
       "    }\n",
       "</style>\n",
       "<table border=\"1\" class=\"dataframe\">\n",
       "  <thead>\n",
       "    <tr style=\"text-align: right;\">\n",
       "      <th></th>\n",
       "      <th>patient_id</th>\n",
       "      <th>appt_id</th>\n",
       "      <th>appt_day</th>\n",
       "      <th>appt_made</th>\n",
       "      <th>age</th>\n",
       "      <th>appt_location</th>\n",
       "      <th>financial_aid</th>\n",
       "      <th>hypertension</th>\n",
       "      <th>diabetes</th>\n",
       "      <th>alcoholism</th>\n",
       "      <th>handicap</th>\n",
       "      <th>sms_sent</th>\n",
       "      <th>gender_f=1_m=0</th>\n",
       "      <th>made_appt_yes=1_no=0</th>\n",
       "      <th>age_grouped</th>\n",
       "      <th>appt_sched_grp</th>\n",
       "      <th>appt_per_grp</th>\n",
       "      <th>days_between_appt</th>\n",
       "    </tr>\n",
       "  </thead>\n",
       "  <tbody>\n",
       "    <tr>\n",
       "      <th>27033</th>\n",
       "      <td>7839272661752</td>\n",
       "      <td>5679978</td>\n",
       "      <td>2016-05-10</td>\n",
       "      <td>2016-05-09</td>\n",
       "      <td>38</td>\n",
       "      <td>RESISTÊNCIA</td>\n",
       "      <td>0</td>\n",
       "      <td>0</td>\n",
       "      <td>0</td>\n",
       "      <td>0</td>\n",
       "      <td>1</td>\n",
       "      <td>0</td>\n",
       "      <td>0</td>\n",
       "      <td>1</td>\n",
       "      <td>4</td>\n",
       "      <td>5.0</td>\n",
       "      <td>2.0</td>\n",
       "      <td>-1 days</td>\n",
       "    </tr>\n",
       "    <tr>\n",
       "      <th>55226</th>\n",
       "      <td>7896293967868</td>\n",
       "      <td>5715660</td>\n",
       "      <td>2016-05-18</td>\n",
       "      <td>2016-05-17</td>\n",
       "      <td>19</td>\n",
       "      <td>SANTO ANTÔNIO</td>\n",
       "      <td>0</td>\n",
       "      <td>0</td>\n",
       "      <td>0</td>\n",
       "      <td>0</td>\n",
       "      <td>1</td>\n",
       "      <td>0</td>\n",
       "      <td>1</td>\n",
       "      <td>1</td>\n",
       "      <td>2</td>\n",
       "      <td>6.0</td>\n",
       "      <td>3.0</td>\n",
       "      <td>-1 days</td>\n",
       "    </tr>\n",
       "    <tr>\n",
       "      <th>64175</th>\n",
       "      <td>24252258389979</td>\n",
       "      <td>5664962</td>\n",
       "      <td>2016-05-05</td>\n",
       "      <td>2016-05-04</td>\n",
       "      <td>22</td>\n",
       "      <td>CONSOLAÇÃO</td>\n",
       "      <td>0</td>\n",
       "      <td>0</td>\n",
       "      <td>0</td>\n",
       "      <td>0</td>\n",
       "      <td>0</td>\n",
       "      <td>0</td>\n",
       "      <td>1</td>\n",
       "      <td>1</td>\n",
       "      <td>3</td>\n",
       "      <td>2.0</td>\n",
       "      <td>5.0</td>\n",
       "      <td>-1 days</td>\n",
       "    </tr>\n",
       "    <tr>\n",
       "      <th>71533</th>\n",
       "      <td>998231581612122</td>\n",
       "      <td>5686628</td>\n",
       "      <td>2016-05-11</td>\n",
       "      <td>2016-05-05</td>\n",
       "      <td>81</td>\n",
       "      <td>SANTO ANTÔNIO</td>\n",
       "      <td>0</td>\n",
       "      <td>0</td>\n",
       "      <td>0</td>\n",
       "      <td>0</td>\n",
       "      <td>0</td>\n",
       "      <td>0</td>\n",
       "      <td>1</td>\n",
       "      <td>1</td>\n",
       "      <td>7</td>\n",
       "      <td>3.0</td>\n",
       "      <td>4.0</td>\n",
       "      <td>-6 days</td>\n",
       "    </tr>\n",
       "    <tr>\n",
       "      <th>72362</th>\n",
       "      <td>3787481966821</td>\n",
       "      <td>5655637</td>\n",
       "      <td>2016-05-04</td>\n",
       "      <td>2016-05-03</td>\n",
       "      <td>7</td>\n",
       "      <td>TABUAZEIRO</td>\n",
       "      <td>0</td>\n",
       "      <td>0</td>\n",
       "      <td>0</td>\n",
       "      <td>0</td>\n",
       "      <td>0</td>\n",
       "      <td>0</td>\n",
       "      <td>0</td>\n",
       "      <td>1</td>\n",
       "      <td>1</td>\n",
       "      <td>5.0</td>\n",
       "      <td>2.0</td>\n",
       "      <td>-1 days</td>\n",
       "    </tr>\n",
       "  </tbody>\n",
       "</table>\n",
       "</div>"
      ],
      "text/plain": [
       "            patient_id  appt_id    appt_day   appt_made  age  appt_location  \\\n",
       "27033    7839272661752  5679978  2016-05-10  2016-05-09   38    RESISTÊNCIA   \n",
       "55226    7896293967868  5715660  2016-05-18  2016-05-17   19  SANTO ANTÔNIO   \n",
       "64175   24252258389979  5664962  2016-05-05  2016-05-04   22     CONSOLAÇÃO   \n",
       "71533  998231581612122  5686628  2016-05-11  2016-05-05   81  SANTO ANTÔNIO   \n",
       "72362    3787481966821  5655637  2016-05-04  2016-05-03    7     TABUAZEIRO   \n",
       "\n",
       "       financial_aid  hypertension  diabetes  alcoholism  handicap  sms_sent  \\\n",
       "27033              0             0         0           0         1         0   \n",
       "55226              0             0         0           0         1         0   \n",
       "64175              0             0         0           0         0         0   \n",
       "71533              0             0         0           0         0         0   \n",
       "72362              0             0         0           0         0         0   \n",
       "\n",
       "       gender_f=1_m=0  made_appt_yes=1_no=0  age_grouped  appt_sched_grp  \\\n",
       "27033               0                     1            4             5.0   \n",
       "55226               1                     1            2             6.0   \n",
       "64175               1                     1            3             2.0   \n",
       "71533               1                     1            7             3.0   \n",
       "72362               0                     1            1             5.0   \n",
       "\n",
       "       appt_per_grp days_between_appt  \n",
       "27033           2.0           -1 days  \n",
       "55226           3.0           -1 days  \n",
       "64175           5.0           -1 days  \n",
       "71533           4.0           -6 days  \n",
       "72362           2.0           -1 days  "
      ]
     },
     "execution_count": 203,
     "metadata": {},
     "output_type": "execute_result"
    }
   ],
   "source": [
    "# Five days with negative days\n",
    "df_minus_days = df.query('days_between_appt < \"0\"')\n",
    "df_minus_days"
   ]
  },
  {
   "cell_type": "code",
   "execution_count": 204,
   "metadata": {
    "code_folding": []
   },
   "outputs": [],
   "source": [
    "# Change five dates \n",
    "df.iloc[27033,3] = df.iloc[27033,2]\n",
    "df.iloc[55226,3] = df.iloc[55226,2]\n",
    "df.iloc[64175,3] = df.iloc[64175,2]\n",
    "df.iloc[71533,3] = df.iloc[71533,2]\n",
    "df.iloc[72362,3] = df.iloc[72362,2]\n",
    "df['days_between_appt'] = df['appt_made'] - df['appt_day']"
   ]
  },
  {
   "cell_type": "code",
   "execution_count": 205,
   "metadata": {
    "code_folding": []
   },
   "outputs": [
    {
     "data": {
      "text/html": [
       "<div>\n",
       "<style scoped>\n",
       "    .dataframe tbody tr th:only-of-type {\n",
       "        vertical-align: middle;\n",
       "    }\n",
       "\n",
       "    .dataframe tbody tr th {\n",
       "        vertical-align: top;\n",
       "    }\n",
       "\n",
       "    .dataframe thead th {\n",
       "        text-align: right;\n",
       "    }\n",
       "</style>\n",
       "<table border=\"1\" class=\"dataframe\">\n",
       "  <thead>\n",
       "    <tr style=\"text-align: right;\">\n",
       "      <th></th>\n",
       "      <th>patient_id</th>\n",
       "      <th>appt_id</th>\n",
       "      <th>appt_day</th>\n",
       "      <th>appt_made</th>\n",
       "      <th>age</th>\n",
       "      <th>appt_location</th>\n",
       "      <th>financial_aid</th>\n",
       "      <th>hypertension</th>\n",
       "      <th>diabetes</th>\n",
       "      <th>alcoholism</th>\n",
       "      <th>handicap</th>\n",
       "      <th>sms_sent</th>\n",
       "      <th>gender_f=1_m=0</th>\n",
       "      <th>made_appt_yes=1_no=0</th>\n",
       "      <th>age_grouped</th>\n",
       "      <th>appt_sched_grp</th>\n",
       "      <th>appt_per_grp</th>\n",
       "      <th>days_between_appt</th>\n",
       "    </tr>\n",
       "  </thead>\n",
       "  <tbody>\n",
       "  </tbody>\n",
       "</table>\n",
       "</div>"
      ],
      "text/plain": [
       "Empty DataFrame\n",
       "Columns: [patient_id, appt_id, appt_day, appt_made, age, appt_location, financial_aid, hypertension, diabetes, alcoholism, handicap, sms_sent, gender_f=1_m=0, made_appt_yes=1_no=0, age_grouped, appt_sched_grp, appt_per_grp, days_between_appt]\n",
       "Index: []"
      ]
     },
     "execution_count": 205,
     "metadata": {},
     "output_type": "execute_result"
    }
   ],
   "source": [
    "# Check to confirm above fix worked (0 rows equls fixed)\n",
    "df_minus_days = df.query('days_between_appt < \"0\"')\n",
    "df_minus_days"
   ]
  },
  {
   "cell_type": "code",
   "execution_count": 206,
   "metadata": {
    "code_folding": []
   },
   "outputs": [
    {
     "data": {
      "text/html": [
       "<div>\n",
       "<style scoped>\n",
       "    .dataframe tbody tr th:only-of-type {\n",
       "        vertical-align: middle;\n",
       "    }\n",
       "\n",
       "    .dataframe tbody tr th {\n",
       "        vertical-align: top;\n",
       "    }\n",
       "\n",
       "    .dataframe thead th {\n",
       "        text-align: right;\n",
       "    }\n",
       "</style>\n",
       "<table border=\"1\" class=\"dataframe\">\n",
       "  <thead>\n",
       "    <tr style=\"text-align: right;\">\n",
       "      <th></th>\n",
       "      <th>patient_id</th>\n",
       "      <th>appt_id</th>\n",
       "      <th>appt_day</th>\n",
       "      <th>appt_made</th>\n",
       "      <th>age</th>\n",
       "      <th>appt_location</th>\n",
       "      <th>financial_aid</th>\n",
       "      <th>hypertension</th>\n",
       "      <th>diabetes</th>\n",
       "      <th>alcoholism</th>\n",
       "      <th>handicap</th>\n",
       "      <th>sms_sent</th>\n",
       "      <th>gender_f=1_m=0</th>\n",
       "      <th>made_appt_yes=1_no=0</th>\n",
       "      <th>age_grouped</th>\n",
       "      <th>appt_sched_grp</th>\n",
       "      <th>appt_per_grp</th>\n",
       "      <th>days_between_appt</th>\n",
       "    </tr>\n",
       "  </thead>\n",
       "  <tbody>\n",
       "    <tr>\n",
       "      <th>0</th>\n",
       "      <td>29872499824296</td>\n",
       "      <td>5642903</td>\n",
       "      <td>2016-04-29</td>\n",
       "      <td>2016-04-29</td>\n",
       "      <td>62</td>\n",
       "      <td>JARDIM DA PENHA</td>\n",
       "      <td>0</td>\n",
       "      <td>1</td>\n",
       "      <td>0</td>\n",
       "      <td>0</td>\n",
       "      <td>0</td>\n",
       "      <td>0</td>\n",
       "      <td>1</td>\n",
       "      <td>0</td>\n",
       "      <td>7</td>\n",
       "      <td>2.0</td>\n",
       "      <td>1.0</td>\n",
       "      <td>0</td>\n",
       "    </tr>\n",
       "    <tr>\n",
       "      <th>1</th>\n",
       "      <td>558997776694438</td>\n",
       "      <td>5642503</td>\n",
       "      <td>2016-04-29</td>\n",
       "      <td>2016-04-29</td>\n",
       "      <td>56</td>\n",
       "      <td>JARDIM DA PENHA</td>\n",
       "      <td>0</td>\n",
       "      <td>0</td>\n",
       "      <td>0</td>\n",
       "      <td>0</td>\n",
       "      <td>0</td>\n",
       "      <td>0</td>\n",
       "      <td>0</td>\n",
       "      <td>0</td>\n",
       "      <td>6</td>\n",
       "      <td>2.0</td>\n",
       "      <td>1.0</td>\n",
       "      <td>0</td>\n",
       "    </tr>\n",
       "  </tbody>\n",
       "</table>\n",
       "</div>"
      ],
      "text/plain": [
       "        patient_id  appt_id    appt_day   appt_made  age    appt_location  \\\n",
       "0   29872499824296  5642903  2016-04-29  2016-04-29   62  JARDIM DA PENHA   \n",
       "1  558997776694438  5642503  2016-04-29  2016-04-29   56  JARDIM DA PENHA   \n",
       "\n",
       "   financial_aid  hypertension  diabetes  alcoholism  handicap  sms_sent  \\\n",
       "0              0             1         0           0         0         0   \n",
       "1              0             0         0           0         0         0   \n",
       "\n",
       "   gender_f=1_m=0  made_appt_yes=1_no=0  age_grouped  appt_sched_grp  \\\n",
       "0               1                     0            7             2.0   \n",
       "1               0                     0            6             2.0   \n",
       "\n",
       "   appt_per_grp  days_between_appt  \n",
       "0           1.0                  0  \n",
       "1           1.0                  0  "
      ]
     },
     "execution_count": 206,
     "metadata": {},
     "output_type": "execute_result"
    }
   ],
   "source": [
    "# Use datetime to convert day_between_appt to days an integer column data type\n",
    "df['days_between_appt'] = df['days_between_appt'].dt.days.astype('int64')\n",
    "df.head(2)"
   ]
  },
  {
   "cell_type": "code",
   "execution_count": 207,
   "metadata": {
    "code_folding": []
   },
   "outputs": [
    {
     "name": "stdout",
     "output_type": "stream",
     "text": [
      "For appointments MADE: Mean days between scheduled & actual: 15.83\n",
      "For appointments MADE: Mean days between cheduled & actual: 8.75\n"
     ]
    }
   ],
   "source": [
    "# Get means for days between scheduling and actual appointment (missed and made)\n",
    "InteractiveShell.ast_node_interactivity = \"last_expr\"\n",
    "df_made1 = df[df['made_appt_yes=1_no=0'] == 1]\n",
    "df_missed0 = df[df['made_appt_yes=1_no=0'] == 0]\n",
    "df_made1.reset_index(inplace=True)\n",
    "df_missed0.reset_index(inplace=True)\n",
    "print(f\"For appointments MADE: Mean days between scheduled & actual: {round(df_made1['days_between_appt'].mean(),2)}\")\n",
    "print(f\"For appointments MADE: Mean days between cheduled & actual: {round(df_missed0['days_between_appt'].mean(),2)}\")"
   ]
  },
  {
   "cell_type": "markdown",
   "metadata": {},
   "source": [
    "## Histogram Days Between Scheduling and Actual Appointment Day \n",
    "Below is the histogram for days between appointment scheduled and actual appointment. The pink section represents all appointments missed with respect to total days between and the blue section is appointments made.  The "
   ]
  },
  {
   "cell_type": "code",
   "execution_count": 208,
   "metadata": {
    "code_folding": []
   },
   "outputs": [
    {
     "data": {
      "image/png": "[encoded data removed]",
      "text/plain": [
       "<Figure size 720x288 with 1 Axes>"
      ]
     },
     "metadata": {
      "needs_background": "light"
     },
     "output_type": "display_data"
    }
   ],
   "source": [
    "# Histogram Made and Missed Appointments by Days\n",
    "made_series = df_made1['days_between_appt']\n",
    "missed_series = df_missed0['days_between_appt']\n",
    "\n",
    "plt.figure(figsize=(10,4))\n",
    "plt.hist(made_series,label=\"Made Appointment\",alpha=1,facecolor=(.68, .85, .90))\n",
    "plt.hist(missed_series,label=\"Missed Appointment\",alpha=0.5,facecolor='pink')\n",
    "\n",
    "plt.title(\"Made/Missed Appt - Days Between Schedule & Actual\",fontsize=14,fontweight='bold')\n",
    "plt.ylabel('Frequency',fontsize=14,fontweight='bold')\n",
    "plt.xlabel(\"Days Between Scheduled and Actual Appointment\",fontsize=14,fontweight='bold')\n",
    "\n",
    "plt.axvline(made_series.mean(),color=(.68, .85, .90),linestyle='--',lw=4,label='Made Mean')\n",
    "plt.axvline(missed_series.mean(),color='pink',linestyle='-.',lw=4,label='Missed Mean')\n",
    "\n",
    "plt.grid(axis='y',alpha=0.5)\n",
    "plt.legend(loc='best')\n",
    "plt.xlim(0,75)\n",
    "plt.show()"
   ]
  },
  {
   "cell_type": "markdown",
   "metadata": {},
   "source": [
    "<a id=\"days_between\"></a>\n",
    "## Create New Feature \n",
    "Create a new column called `appt_days_between_grp` which will be an integer based on the following groupings: \n",
    "\n",
    "1. `<= 5`\n",
    "2. 5  > & >= 10\n",
    "3. `10 > & >= 15`\n",
    "4. 15 > & >= 20\n",
    "5. `20 > & >= 30`\n",
    "6. 30 > & >= 40\n",
    "7. `40 > & >= 50`\n",
    "8. 50 > & >= 60\n",
    "9. `> 60`\n",
    "\n",
    "If the total days was greater than 20 but less than or equal to 30 then assign a value of 5...etc. "
   ]
  },
  {
   "cell_type": "code",
   "execution_count": 209,
   "metadata": {
    "code_folding": []
   },
   "outputs": [],
   "source": [
    "## Add Column appt_days_between\n",
    "made_group_list = []\n",
    "lst = made_group_list\n",
    "for i in range(len(df_made1['days_between_appt'])):\n",
    "    days = df_made1.loc[i,'days_between_appt']\n",
    "\n",
    "    if days <= 5:\n",
    "        lst.append(1)\n",
    "    elif days > 5 and days <= 10:\n",
    "        lst.append(2)\n",
    "    elif days > 10 and days <= 15:\n",
    "        lst.append(3)\n",
    "    elif days > 15 and days <= 20:\n",
    "        lst.append(4)\n",
    "    elif days > 20 and days <= 30:\n",
    "        lst.append(5)\n",
    "    elif days > 30 and days <= 40:\n",
    "        lst.append(6)\n",
    "    elif days > 40 and days <= 50:\n",
    "        lst.append(7)       \n",
    "    elif days > 50 and days <= 60:\n",
    "        lst.append(8)\n",
    "    else:\n",
    "        lst.append(9)\n",
    "        \n",
    "made_group_list = lst\n",
    "\n",
    "# Validation check        \n",
    "# for i in range(25):\n",
    "#     print(f\"{made_group_list[i]} << >> {df_made1.loc[i,'days_between_appt']}\")"
   ]
  },
  {
   "cell_type": "code",
   "execution_count": 210,
   "metadata": {
    "code_folding": []
   },
   "outputs": [
    {
     "name": "stdout",
     "output_type": "stream",
     "text": [
      "1    7259\n",
      "2    3860\n",
      "5    3375\n",
      "3    2616\n",
      "6    1793\n",
      "4    1784\n",
      "7     683\n",
      "9     596\n",
      "8     353\n",
      "Name: appt_days_between_grp, dtype: int64\n"
     ]
    },
    {
     "name": "stderr",
     "output_type": "stream",
     "text": [
      "c:\\python37\\lib\\site-packages\\ipykernel_launcher.py:2: SettingWithCopyWarning: \n",
      "A value is trying to be set on a copy of a slice from a DataFrame.\n",
      "Try using .loc[row_indexer,col_indexer] = value instead\n",
      "\n",
      "See the caveats in the documentation: http://pandas.pydata.org/pandas-docs/stable/user_guide/indexing.html#returning-a-view-versus-a-copy\n",
      "  \n"
     ]
    }
   ],
   "source": [
    "# Add column new appt_days_between\n",
    "df_made1['appt_days_between_grp'] = made_group_list\n",
    "# Validate counts by new grouping\n",
    "made = df_made1['appt_days_between_grp'].value_counts()\n",
    "print(made)"
   ]
  },
  {
   "cell_type": "code",
   "execution_count": 211,
   "metadata": {
    "code_folding": []
   },
   "outputs": [],
   "source": [
    "## Add Column appt_days_between\n",
    "missed_group_list = []\n",
    "lst = missed_group_list\n",
    "for i in range(len(df_missed0['days_between_appt'])):\n",
    "    days = df_missed0.loc[i,'days_between_appt']\n",
    "\n",
    "    if days <= 5:\n",
    "        lst.append(1)\n",
    "    elif days > 5 and days <= 10:\n",
    "        lst.append(2)\n",
    "    elif days > 10 and days <= 15:\n",
    "        lst.append(3)\n",
    "    elif days > 15 and days <= 20:\n",
    "        lst.append(4)\n",
    "    elif days > 20 and days <= 30:\n",
    "        lst.append(5)\n",
    "    elif days > 30 and days <= 40:\n",
    "        lst.append(6)\n",
    "    elif days > 40 and days <= 50:\n",
    "        lst.append(7)       \n",
    "    elif days > 50 and days <= 60:\n",
    "        lst.append(8)\n",
    "    else:\n",
    "        lst.append(9)\n",
    "        \n",
    "missed_group_list = lst\n",
    "\n",
    "#Validation check        \n",
    "# for i in range(25):\n",
    "#     print(f\"{missed_group_list[i]} << >> {df_missed0.loc[i,'days_between_appt']}\")"
   ]
  },
  {
   "cell_type": "code",
   "execution_count": 212,
   "metadata": {
    "code_folding": []
   },
   "outputs": [
    {
     "name": "stdout",
     "output_type": "stream",
     "text": [
      "1    54551\n",
      "2    10411\n",
      "5     6983\n",
      "3     5584\n",
      "4     3726\n",
      "6     3405\n",
      "9     1499\n",
      "7     1369\n",
      "8      680\n",
      "Name: appt_days_between_grp, dtype: int64\n"
     ]
    },
    {
     "name": "stderr",
     "output_type": "stream",
     "text": [
      "c:\\python37\\lib\\site-packages\\ipykernel_launcher.py:2: SettingWithCopyWarning: \n",
      "A value is trying to be set on a copy of a slice from a DataFrame.\n",
      "Try using .loc[row_indexer,col_indexer] = value instead\n",
      "\n",
      "See the caveats in the documentation: http://pandas.pydata.org/pandas-docs/stable/user_guide/indexing.html#returning-a-view-versus-a-copy\n",
      "  \n"
     ]
    }
   ],
   "source": [
    "# Add column new appt_days_between\n",
    "df_missed0['appt_days_between_grp'] = missed_group_list\n",
    "# Validate counts by new grouping\n",
    "missed = df_missed0['appt_days_between_grp'].value_counts()\n",
    "print(missed)"
   ]
  },
  {
   "cell_type": "code",
   "execution_count": 213,
   "metadata": {
    "code_folding": []
   },
   "outputs": [
    {
     "name": "stdout",
     "output_type": "stream",
     "text": [
      "Made value list: [1, 2, 5, 3, 6, 4, 7, 9, 8]\n",
      "Missed value list: [1, 2, 5, 3, 4, 6, 9, 7, 8]\n",
      "The Made Count List: [7259, 3860, 3375, 2616, 1793, 1784, 683, 596, 353]\n",
      "The Missed Count List: [54551, 10411, 6983, 5584, 3726, 3405, 1499, 1369, 680]\n"
     ]
    }
   ],
   "source": [
    "# Create a list of grouping values for made & missed\n",
    "made_val_list = list(made.index)\n",
    "print(f\"Made value list: {made_val_list}\")\n",
    "missed_val_list = list(missed.index)\n",
    "print(f\"Missed value list: {missed_val_list}\")\n",
    "\n",
    "# Create a list of counts for made & missed days between \n",
    "made_count_list = [made.iloc[i] for i in range(len(made_val_list))]\n",
    "missed_count_list = [missed.iloc[i] for i in range(len(missed_val_list))]\n",
    "print(f\"The Made Count List: {made_count_list}\")\n",
    "print(f\"The Missed Count List: {missed_count_list}\")"
   ]
  },
  {
   "cell_type": "code",
   "execution_count": 214,
   "metadata": {
    "code_folding": []
   },
   "outputs": [
    {
     "name": "stdout",
     "output_type": "stream",
     "text": [
      "{1: 7259, 2: 3860, 5: 3375, 3: 2616, 6: 1793, 4: 1784, 7: 683, 9: 596, 8: 353}\n",
      "{1: 54551, 2: 10411, 5: 6983, 3: 5584, 4: 3726, 6: 3405, 9: 1499, 7: 1369, 8: 680}\n"
     ]
    }
   ],
   "source": [
    "# Create dictinaries for bar chart\n",
    "made_dict = convert_dict(made_val_list,made_count_list)\n",
    "missed_dict = convert_dict(missed_val_list,missed_count_list)\n",
    "print(made_dict)\n",
    "print(missed_dict)"
   ]
  },
  {
   "cell_type": "code",
   "execution_count": 215,
   "metadata": {
    "code_folding": []
   },
   "outputs": [
    {
     "name": "stdout",
     "output_type": "stream",
     "text": [
      "If correct sum hsould equal row count of 110,527 >> 110527\n",
      "22319\n",
      "88208\n"
     ]
    }
   ],
   "source": [
    "# Create sum to calculate % and validate code\n",
    "made_sum = sum(made_dict.values())\n",
    "missed_sum = sum(missed_dict.values())\n",
    "print(f\"If correct sum hsould equal row count of 110,527 >> {made_sum + missed_sum}\")\n",
    "print(made_sum)\n",
    "print(missed_sum)"
   ]
  },
  {
   "cell_type": "code",
   "execution_count": 216,
   "metadata": {
    "code_folding": []
   },
   "outputs": [
    {
     "name": "stdout",
     "output_type": "stream",
     "text": [
      "[33.0, 17.0, 12.0, 8.0, 15.0, 8.0, 3.0, 2.0, 3.0]\n",
      "[62.0, 12.0, 6.0, 4.0, 8.0, 4.0, 2.0, 1.0, 2.0]\n"
     ]
    }
   ],
   "source": [
    "# Create lists for chart (Need to be aligned 1 - 9)\n",
    "made_list = []\n",
    "missed_list = []\n",
    "for i in range(1,10):\n",
    "    made_list.append(round(made_dict[i] / made_sum*100,0)) \n",
    "    missed_list.append(round(missed_dict[i] / missed_sum*100,0)) \n",
    "print(made_list)\n",
    "print(missed_list)"
   ]
  },
  {
   "cell_type": "markdown",
   "metadata": {},
   "source": [
    "<a id=\"analysis_days_between\"></a>\n",
    "## Days between Scheduling and Actual Appointment \n",
    "Based on the analysis, thus far, we have seen that the mean value for days between is higher when the patient made the appointment (16 days). When the patient misses the appoint the mean is lower (9 days).  Does this imply the greater the number of days between will result in patients being more likely to make the appointment? To help answer that question the data was broken into two sections: \n",
    "\n",
    "**Made Appointments** and **Missed Appointments**\n",
    "Next, we took the groupings, counted the values for each and divided by the total for respected grouping.  For example, there are 22,319 made appointments and 88,208 missed appointments. The patients that scheduled their appointment less than 5 days in advance totaled 7,259. That represented 33% of the total. While the patients that missed their appointments over 60% scheduled less than 5 days before appointment.  For all other groupings the percent made is higher.\n",
    "\n",
    "Using the days between would be a good estimator for determining if the patient will make the appointment.  "
   ]
  },
  {
   "cell_type": "code",
   "execution_count": 227,
   "metadata": {
    "code_folding": []
   },
   "outputs": [
    {
     "data": {
      "image/png": "[encoded data removed]",
      "text/plain": [
       "<Figure size 864x504 with 1 Axes>"
      ]
     },
     "metadata": {
      "needs_background": "light"
     },
     "output_type": "display_data"
    }
   ],
   "source": [
    "# Bar Chart days between scheduled and actual \n",
    "made = made_list\n",
    "missed = missed_list\n",
    "\n",
    "x_labels = ['<= 5','5 - 10','10 - 15','15 - 20','20 - 30',\n",
    "             '30 - 40','40 - 50','50 - 60','> 60']\n",
    "\n",
    "x = np.arange(len(x_labels)) # This returns array evenly spaced values \n",
    "width = 0.35 # Width of bars\n",
    "\n",
    "fig, ax = plt.subplots()\n",
    "fig.set_size_inches(12,7)\n",
    "ax.bar(x - width/2, made,width,label=\"Percent Made\",color='pink')\n",
    "ax.bar(x + width/2, missed, width,label=\"Percent Missed,color\",color= (.68, .85, .90)) \n",
    "\n",
    "ax.set_ylabel(\"Percent\",fontsize=18,fontweight='bold')\n",
    "ax.set_title(\"Number of Days between Scheduled Appt. and Actual\",fontsize=18,fontweight='bold')\n",
    "ax.set_xticks(x)\n",
    "ax.set_xticklabels(x_labels,fontsize=12,fontweight='bold')\n",
    "\n",
    "ax.set_facecolor('#F0F4F5')\n",
    "ax.legend()\n",
    "ax.grid(axis='y',alpha=1,linestyle='--')\n",
    "plt.show()"
   ]
  },
  {
   "cell_type": "code",
   "execution_count": 218,
   "metadata": {
    "code_folding": []
   },
   "outputs": [
    {
     "data": {
      "text/html": [
       "<div>\n",
       "<style scoped>\n",
       "    .dataframe tbody tr th:only-of-type {\n",
       "        vertical-align: middle;\n",
       "    }\n",
       "\n",
       "    .dataframe tbody tr th {\n",
       "        vertical-align: top;\n",
       "    }\n",
       "\n",
       "    .dataframe thead th {\n",
       "        text-align: right;\n",
       "    }\n",
       "</style>\n",
       "<table border=\"1\" class=\"dataframe\">\n",
       "  <thead>\n",
       "    <tr style=\"text-align: right;\">\n",
       "      <th></th>\n",
       "      <th>made_appt_yes=1_no=0</th>\n",
       "      <th>age</th>\n",
       "      <th>financial_aid</th>\n",
       "      <th>hypertension</th>\n",
       "      <th>diabetes</th>\n",
       "      <th>alcoholism</th>\n",
       "      <th>handicap</th>\n",
       "      <th>sms_sent</th>\n",
       "      <th>gender_f=1_m=0</th>\n",
       "    </tr>\n",
       "  </thead>\n",
       "  <tbody>\n",
       "    <tr>\n",
       "      <th>0</th>\n",
       "      <td>0</td>\n",
       "      <td>62</td>\n",
       "      <td>0</td>\n",
       "      <td>1</td>\n",
       "      <td>0</td>\n",
       "      <td>0</td>\n",
       "      <td>0</td>\n",
       "      <td>0</td>\n",
       "      <td>1</td>\n",
       "    </tr>\n",
       "    <tr>\n",
       "      <th>1</th>\n",
       "      <td>0</td>\n",
       "      <td>56</td>\n",
       "      <td>0</td>\n",
       "      <td>0</td>\n",
       "      <td>0</td>\n",
       "      <td>0</td>\n",
       "      <td>0</td>\n",
       "      <td>0</td>\n",
       "      <td>0</td>\n",
       "    </tr>\n",
       "    <tr>\n",
       "      <th>2</th>\n",
       "      <td>0</td>\n",
       "      <td>62</td>\n",
       "      <td>0</td>\n",
       "      <td>0</td>\n",
       "      <td>0</td>\n",
       "      <td>0</td>\n",
       "      <td>0</td>\n",
       "      <td>0</td>\n",
       "      <td>1</td>\n",
       "    </tr>\n",
       "    <tr>\n",
       "      <th>3</th>\n",
       "      <td>0</td>\n",
       "      <td>8</td>\n",
       "      <td>0</td>\n",
       "      <td>0</td>\n",
       "      <td>0</td>\n",
       "      <td>0</td>\n",
       "      <td>0</td>\n",
       "      <td>0</td>\n",
       "      <td>1</td>\n",
       "    </tr>\n",
       "    <tr>\n",
       "      <th>4</th>\n",
       "      <td>0</td>\n",
       "      <td>56</td>\n",
       "      <td>0</td>\n",
       "      <td>1</td>\n",
       "      <td>1</td>\n",
       "      <td>0</td>\n",
       "      <td>0</td>\n",
       "      <td>0</td>\n",
       "      <td>1</td>\n",
       "    </tr>\n",
       "  </tbody>\n",
       "</table>\n",
       "</div>"
      ],
      "text/plain": [
       "   made_appt_yes=1_no=0  age  financial_aid  hypertension  diabetes  \\\n",
       "0                     0   62              0             1         0   \n",
       "1                     0   56              0             0         0   \n",
       "2                     0   62              0             0         0   \n",
       "3                     0    8              0             0         0   \n",
       "4                     0   56              0             1         1   \n",
       "\n",
       "   alcoholism  handicap  sms_sent  gender_f=1_m=0  \n",
       "0           0         0         0               1  \n",
       "1           0         0         0               0  \n",
       "2           0         0         0               1  \n",
       "3           0         0         0               1  \n",
       "4           0         0         0               1  "
      ]
     },
     "execution_count": 218,
     "metadata": {},
     "output_type": "execute_result"
    }
   ],
   "source": [
    "# Run numbers for Conclusion and Recommendation section (Help keep clean)\n",
    "import seaborn as sns\n",
    "# Link to seaborn custom palette. Good article need to study\n",
    "# http://jose-coto.com/styling-with-seaborn\n",
    "df_corr_1 = df[['made_appt_yes=1_no=0','age','financial_aid',\n",
    "               'hypertension','diabetes','alcoholism','handicap','sms_sent','gender_f=1_m=0']]\n",
    "\n",
    "df_corr_2 = df[['made_appt_yes=1_no=0','age_grouped','appt_sched_grp',\n",
    "                'appt_per_grp','days_between_appt']]\n",
    "\n",
    "df_corr_3 = df[['made_appt_yes=1_no=0','appt_per_grp','age','financial_aid',\n",
    "               'hypertension','diabetes','alcoholism','handicap','sms_sent',\n",
    "                'gender_f=1_m=0']]\n",
    "\n",
    "\n",
    "df_corr_1.head()"
   ]
  },
  {
   "cell_type": "markdown",
   "metadata": {},
   "source": [
    "<a id=\"con_foc\"></a>\n",
    "## Concentrated Focus of Appointments Attended \n",
    "Based on the steep drop off and relative uniform spread in the histogram we should review the individual groupings to see if there is any particular trend in a particular feature. To do this we will group, by the column, `appt_per_grp` and take the mean of all other features. There are a total of `10` features that we will compare. Each plot will contain 5 features. \n",
    "\n",
    "1. `< 10%`   of meetings attended\n",
    "2. `10-25%`  of meetings attended\n",
    "3. `25-50%`  of meetings attended\n",
    "4. `50-75%`  of meetings attended\n",
    "5. `75-100%` of meetings attended\n",
    "\n",
    "`*NOTE: True/False 1/0 columns are multiplied by 100*`"
   ]
  },
  {
   "cell_type": "code",
   "execution_count": 219,
   "metadata": {
    "code_folding": []
   },
   "outputs": [
    {
     "data": {
      "text/html": [
       "<div>\n",
       "<style scoped>\n",
       "    .dataframe tbody tr th:only-of-type {\n",
       "        vertical-align: middle;\n",
       "    }\n",
       "\n",
       "    .dataframe tbody tr th {\n",
       "        vertical-align: top;\n",
       "    }\n",
       "\n",
       "    .dataframe thead th {\n",
       "        text-align: right;\n",
       "    }\n",
       "</style>\n",
       "<table border=\"1\" class=\"dataframe\">\n",
       "  <thead>\n",
       "    <tr style=\"text-align: right;\">\n",
       "      <th></th>\n",
       "      <th>mean_age</th>\n",
       "      <th>mean_gender</th>\n",
       "      <th>mean_appts_sched</th>\n",
       "      <th>mean_days_between</th>\n",
       "      <th>mean_sms</th>\n",
       "      <th>mean_fin_aid</th>\n",
       "      <th>mean_hyper</th>\n",
       "      <th>mean_diab</th>\n",
       "      <th>mean_aloch</th>\n",
       "      <th>mean_handicap</th>\n",
       "    </tr>\n",
       "    <tr>\n",
       "      <th>appt_per_grp</th>\n",
       "      <th></th>\n",
       "      <th></th>\n",
       "      <th></th>\n",
       "      <th></th>\n",
       "      <th></th>\n",
       "      <th></th>\n",
       "      <th></th>\n",
       "      <th></th>\n",
       "      <th></th>\n",
       "      <th></th>\n",
       "    </tr>\n",
       "  </thead>\n",
       "  <tbody>\n",
       "    <tr>\n",
       "      <th>1.0</th>\n",
       "      <td>38.138950</td>\n",
       "      <td>64.0</td>\n",
       "      <td>2.213799</td>\n",
       "      <td>9.116523</td>\n",
       "      <td>29.0</td>\n",
       "      <td>9.0</td>\n",
       "      <td>21.0</td>\n",
       "      <td>7.0</td>\n",
       "      <td>3.0</td>\n",
       "      <td>2.0</td>\n",
       "    </tr>\n",
       "    <tr>\n",
       "      <th>2.0</th>\n",
       "      <td>40.257512</td>\n",
       "      <td>67.0</td>\n",
       "      <td>5.853272</td>\n",
       "      <td>6.941935</td>\n",
       "      <td>31.0</td>\n",
       "      <td>10.0</td>\n",
       "      <td>24.0</td>\n",
       "      <td>9.0</td>\n",
       "      <td>3.0</td>\n",
       "      <td>3.0</td>\n",
       "    </tr>\n",
       "    <tr>\n",
       "      <th>3.0</th>\n",
       "      <td>36.522784</td>\n",
       "      <td>68.0</td>\n",
       "      <td>4.225274</td>\n",
       "      <td>9.423240</td>\n",
       "      <td>34.0</td>\n",
       "      <td>11.0</td>\n",
       "      <td>20.0</td>\n",
       "      <td>8.0</td>\n",
       "      <td>3.0</td>\n",
       "      <td>2.0</td>\n",
       "    </tr>\n",
       "    <tr>\n",
       "      <th>4.0</th>\n",
       "      <td>33.955437</td>\n",
       "      <td>67.0</td>\n",
       "      <td>2.856052</td>\n",
       "      <td>11.633089</td>\n",
       "      <td>37.0</td>\n",
       "      <td>12.0</td>\n",
       "      <td>17.0</td>\n",
       "      <td>6.0</td>\n",
       "      <td>3.0</td>\n",
       "      <td>2.0</td>\n",
       "    </tr>\n",
       "    <tr>\n",
       "      <th>5.0</th>\n",
       "      <td>33.194279</td>\n",
       "      <td>63.0</td>\n",
       "      <td>1.699462</td>\n",
       "      <td>17.978883</td>\n",
       "      <td>43.0</td>\n",
       "      <td>11.0</td>\n",
       "      <td>15.0</td>\n",
       "      <td>6.0</td>\n",
       "      <td>3.0</td>\n",
       "      <td>2.0</td>\n",
       "    </tr>\n",
       "  </tbody>\n",
       "</table>\n",
       "</div>"
      ],
      "text/plain": [
       "               mean_age  mean_gender  mean_appts_sched  mean_days_between  \\\n",
       "appt_per_grp                                                                \n",
       "1.0           38.138950         64.0          2.213799           9.116523   \n",
       "2.0           40.257512         67.0          5.853272           6.941935   \n",
       "3.0           36.522784         68.0          4.225274           9.423240   \n",
       "4.0           33.955437         67.0          2.856052          11.633089   \n",
       "5.0           33.194279         63.0          1.699462          17.978883   \n",
       "\n",
       "              mean_sms  mean_fin_aid  mean_hyper  mean_diab  mean_aloch  \\\n",
       "appt_per_grp                                                              \n",
       "1.0               29.0           9.0        21.0        7.0         3.0   \n",
       "2.0               31.0          10.0        24.0        9.0         3.0   \n",
       "3.0               34.0          11.0        20.0        8.0         3.0   \n",
       "4.0               37.0          12.0        17.0        6.0         3.0   \n",
       "5.0               43.0          11.0        15.0        6.0         3.0   \n",
       "\n",
       "              mean_handicap  \n",
       "appt_per_grp                 \n",
       "1.0                     2.0  \n",
       "2.0                     3.0  \n",
       "3.0                     2.0  \n",
       "4.0                     2.0  \n",
       "5.0                     2.0  "
      ]
     },
     "execution_count": 219,
     "metadata": {},
     "output_type": "execute_result"
    }
   ],
   "source": [
    "# Look at the mean of all features for percentage made \n",
    "df_percent_grp = df.groupby('appt_per_grp',as_index=True).agg(\n",
    "                mean_age=pd.NamedAgg(column='age',aggfunc='mean'),\n",
    "                mean_gender=pd.NamedAgg(column='gender_f=1_m=0',aggfunc='mean'),\n",
    "                mean_appts_sched=pd.NamedAgg(column='appt_sched_grp',aggfunc='mean'),\n",
    "                mean_days_between=pd.NamedAgg(column='days_between_appt',aggfunc='mean'),\n",
    "                mean_sms=pd.NamedAgg(column='sms_sent',aggfunc='mean'),\n",
    "                mean_fin_aid=pd.NamedAgg(column='financial_aid',aggfunc='mean'),\n",
    "                mean_hyper=pd.NamedAgg(column='hypertension',aggfunc='mean'),\n",
    "                mean_diab=pd.NamedAgg(column='diabetes',aggfunc='mean'),\n",
    "                mean_aloch=pd.NamedAgg(column='alcoholism',aggfunc='mean'),\n",
    "                mean_handicap=pd.NamedAgg(column='handicap',aggfunc='mean'))\n",
    "\n",
    "df_percent_grp['mean_gender'] = round(df_percent_grp['mean_gender'] *100,0)\n",
    "df_percent_grp['mean_sms'] = round(df_percent_grp['mean_sms'] *100,0)\n",
    "df_percent_grp['mean_fin_aid'] = round(df_percent_grp['mean_fin_aid'] *100,0)\n",
    "df_percent_grp['mean_hyper'] = round(df_percent_grp['mean_hyper'] *100,0)\n",
    "df_percent_grp['mean_diab'] = round(df_percent_grp['mean_diab'] *100,0)\n",
    "df_percent_grp['mean_aloch'] = round(df_percent_grp['mean_aloch'] *100,0)\n",
    "df_percent_grp['mean_handicap'] = round(df_percent_grp['mean_handicap'] *100,0)\n",
    "df_percent_grp"
   ]
  },
  {
   "cell_type": "code",
   "execution_count": 220,
   "metadata": {},
   "outputs": [
    {
     "name": "stdout",
     "output_type": "stream",
     "text": [
      "['mean_age', 'mean_gender', 'mean_appts_sched', 'mean_days_between', 'mean_sms', 'mean_fin_aid', 'mean_hyper', 'mean_diab', 'mean_aloch', 'mean_handicap']\n"
     ]
    }
   ],
   "source": [
    "col_names = list(df_percent_grp.columns)\n",
    "print(col_names)"
   ]
  },
  {
   "cell_type": "markdown",
   "metadata": {},
   "source": [
    "## Age, Gender, Appointments Scheduled, Days between Appointments & SMS Sent\n",
    "* **Age:** Age has a slight decline moving from low to high attendance. The mean age is lower as the percentage of appointment attended increases. \n",
    "* **Gender:** Gender has a standard normal distribution and does not appear to be a good indicator. \n",
    "* **Appointments Scheduled:** The number of appointments scheduled, by patient, is somewhat uniform and is not a strong indicator.\n",
    "* **Days between Appointment:** The greater the number of days between appointment scheduled and day of appointment is a `good indicator` to predicting if the patient will make the meeting. The days are as follows: 9.11, 6.94, 9.42, 11.63 and 17.98 by grouping. The second grouping drops slightly but then trends up as attendance increases. \n",
    "    1. `< 10%`   of meetings attended Mean Days: `9.11`\n",
    "    2. `10-25%`  of meetings attended Mean Days: `6.94`\n",
    "    3. `25-50%`  of meetings attended Mean Days: `9.42`\n",
    "    4. `50-75%`  of meetings attended Mean Days: `11.63`\n",
    "    5. `75-100%` of meetings attended Mean Days: `17.98`\n",
    "* **SMS Sent:** Sending a text message has an upward trend indicating that if a message is sent the patient will be more likely to make a higher percentage of their appointments. "
   ]
  },
  {
   "cell_type": "code",
   "execution_count": 221,
   "metadata": {
    "code_folding": []
   },
   "outputs": [
    {
     "data": {
      "image/png": "[encoded data removed]",
      "text/plain": [
       "<Figure size 1224x720 with 1 Axes>"
      ]
     },
     "metadata": {
      "needs_background": "light"
     },
     "output_type": "display_data"
    }
   ],
   "source": [
    "# bar chart for PERCENT group1\n",
    "fig, ax = plt.subplots()\n",
    "labels = ['< 10%', '10-25%', '25-50%', '50-75%', '75-100%']\n",
    "bar1, bar2, bar3  = df_percent_grp['mean_age'], df_percent_grp['mean_gender'], df_percent_grp['mean_appts_sched']\n",
    "bar4, bar5 = df_percent_grp['mean_days_between'], df_percent_grp['mean_sms']\n",
    "\n",
    "label1, label2, label3 = \"Mean Age\", \"Mean Gender\", \"Mean Appts Sched\"\n",
    "label4, label5 = \"mean_days_between\", \"mean_sms\"\n",
    "\n",
    "bar_width = 0.15\n",
    "# Set position of bar labels \n",
    "x1 = np.arange(len(labels)) # This returns array evenly spaced values\n",
    "x2 = [i + bar_width for i in x1]\n",
    "x3 = [i + bar_width for i in x2]\n",
    "x4 = [i + bar_width for i in x3]\n",
    "x5 = [i + bar_width for i in x4]\n",
    "\n",
    "ax.bar(x1, bar1, bar_width,label=label1, edgecolor='black', color='#F6CDF4')\n",
    "ax.bar(x2, bar2, bar_width,label=label2, edgecolor='black', color='#BEE9FF') \n",
    "ax.bar(x3, bar3, bar_width,label=label3, edgecolor='black', color='#6A6AD2')\n",
    "ax.bar(x4, bar4, bar_width,label=label4, edgecolor='black', color='#DAE374')\n",
    "ax.bar(x5, bar5, bar_width,label=label5, edgecolor='black', color='#74E3C3')\n",
    "\n",
    "ax.set_title(\"Features by Percent Grouping\",fontsize=18,fontweight='bold')\n",
    "ax.set_ylabel(\"Value\",fontsize=18,fontweight='bold')\n",
    "#ax.set_yticklabels(fontsize=12,fontweight='bold')\n",
    "\n",
    "ax.set_xticks([x + bar_width for x in range(len(labels))])\n",
    "ax.set_xticklabels(labels,fontsize=12,fontweight='bold',ha='center')\n",
    "ax.set_xlabel('Age, Gender, Appts Scheduled, Days Between, SMS Sent',fontsize=18,fontweight='bold',ha='center')\n",
    "\n",
    "ax.set_facecolor('#E7E8D4')\n",
    "ax.legend()\n",
    "ax.grid(axis='y',alpha=1,linestyle='--')\n",
    "\n",
    "fig.set_size_inches(17,10)\n",
    "plt.show()"
   ]
  },
  {
   "cell_type": "markdown",
   "metadata": {},
   "source": [
    "## Hypertension, Diabetes, Alcoholism, Financial Aid & Handicap \n",
    "Of the remaining 5 features `Hypertension & Financial Aid` provide some insight into predicting if a patient will attend a higher percentage of their scheduled appointments. As the percentage of appointments made increases mean hypertension  decreases (less patients have) and mean financial aid increases.  "
   ]
  },
  {
   "cell_type": "code",
   "execution_count": 222,
   "metadata": {
    "code_folding": []
   },
   "outputs": [
    {
     "data": {
      "image/png": "[encoded data removed]",
      "text/plain": [
       "<Figure size 1224x720 with 1 Axes>"
      ]
     },
     "metadata": {
      "needs_background": "light"
     },
     "output_type": "display_data"
    }
   ],
   "source": [
    "# bar chart for PERCENT group2\n",
    "labels = ['< 10%', '10-25%', '25-50%', '50-75%', '75-100%']\n",
    "bar1, bar2, bar3  = df_percent_grp['mean_hyper'], df_percent_grp['mean_diab'], df_percent_grp['mean_aloch']\n",
    "bar4, bar5 = df_percent_grp['mean_fin_aid'], df_percent_grp['mean_handicap']\n",
    "\n",
    "label1, label2, label3,label4, label5 = \"mean_hyper\", \"mean_diab\", \"mean_aloch\",\"mean_fin_aid\",\"mean_handicap\"\n",
    "\n",
    "bar_width = 0.15\n",
    "# Set position of bar labels \n",
    "x1 = np.arange(len(labels)) # This returns array evenly spaced values\n",
    "x2 = [i + bar_width for i in x1]\n",
    "x3 = [i + bar_width for i in x2]\n",
    "x4 = [i + bar_width for i in x3]\n",
    "x5 = [i + bar_width for i in x4]\n",
    "#https://python-graph-gallery.com/11-grouped-barplot/\n",
    "\n",
    "\n",
    "fig, ax = plt.subplots()\n",
    "ax.bar(x1, bar1, bar_width,label=label1, edgecolor='black', color='#F6CDF4')\n",
    "ax.bar(x2, bar2, bar_width,label=label2, edgecolor='black', color='#BEE9FF') \n",
    "ax.bar(x3, bar3, bar_width,label=label3, edgecolor='black', color='#6A6AD2')\n",
    "\n",
    "ax.bar(x4, bar4, bar_width,label=label4, edgecolor='black', color='#DAE374')\n",
    "ax.bar(x5, bar5, bar_width,label=label5, edgecolor='black', color='#74E3C3')\n",
    "\n",
    "ax.set_title(\"Features by Percent Grouping\",fontsize=18,fontweight='bold')\n",
    "ax.set_ylabel(\"Value\",fontsize=18,fontweight='bold')\n",
    "#ax.set_yticklabels(fontsize=12,fontweight='bold')\n",
    "\n",
    "ax.set_xticks([x + bar_width for x in range(len(labels))])\n",
    "ax.set_xticklabels(labels,fontsize=12,fontweight='bold',ha='center')\n",
    "ax.set_xlabel('Hypertension, Diabetes, Alcoholism, Financial Aid, Handicap',fontsize=18,fontweight='bold',ha='center')\n",
    "\n",
    "ax.set_facecolor('#F0F4F5')\n",
    "ax.legend()\n",
    "ax.grid(axis='y',alpha=1,linestyle='--')\n",
    "\n",
    "fig.set_size_inches(17,10)\n",
    "plt.show()"
   ]
  },
  {
   "cell_type": "markdown",
   "metadata": {},
   "source": [
    "<a id=\"con_rec\"></a>\n",
    "<a id=\"features\"></a>\n",
    "<div class=\"alert alert-block alert-info\">\n",
    "    <font size=\"+3\"><b>Conclusion and Recommendation</b></font>\n",
    "</div>"
   ]
  },
  {
   "cell_type": "markdown",
   "metadata": {},
   "source": [
    "<a id=\"date_corr\"></a>\n",
    "## Heatmap Correlation Original Data \n",
    "We started the data analysis process looking to answers the question: ***Based on the data set provided would it be possible to predict whether a patient would attend the scheduled appointment or not attend***.  The initial analysis showed that **80%** of the appointments scheduled resulted in the patient **MISSING** the scheduled appointment. \n",
    "\n",
    "Starting with the given data points there was not a strong positive or negative correlation between the data.  The strongest correlation with respect to making or missing the scheduled appointment belonged to the feature `text messages sent` at **0.13**.  Then there was age, diabetes and hypertension that had a stronger correlation amongst themselves but was not useful with determining if a patient would attend the scheduled appointment. \n",
    "\n",
    "Note: Matplotlib version 3.1.1 top  & bottom heatmap cutoff issue being fixed with version 3.1.2"
   ]
  },
  {
   "cell_type": "code",
   "execution_count": 223,
   "metadata": {
    "code_folding": []
   },
   "outputs": [
    {
     "data": {
      "image/png": "[encoded data removed]",
      "text/plain": [
       "<Figure size 864x504 with 2 Axes>"
      ]
     },
     "metadata": {
      "needs_background": "light"
     },
     "output_type": "display_data"
    }
   ],
   "source": [
    "# Heatmap Original Data\n",
    "InteractiveShell.ast_node_interactivity = \"last_expr\" # \"last_expr\" \"all\" \"none\"\n",
    "fig, ax = plt.subplots()\n",
    "fig.set_size_inches(12,7)\n",
    "ax.set_title(\"Correlation Matrix Original Data\",fontsize=18,fontweight='bold')\n",
    "ax = sns.heatmap(df_corr_1.corr(),vmin=-1,cmap=sns.diverging_palette(128,240,as_cmap=True),annot=True,linewidths=1)\n",
    "# vmin=-1 Makes it easier to see neg and pos corr. Scale switches from 0 through 1 to 1 through -1"
   ]
  },
  {
   "cell_type": "markdown",
   "metadata": {},
   "source": [
    "## Heatmap Correlation Engineered Features \n",
    "The Engineered Features provided some useful insight but did not provide robust results. First, we can review features added and their correlation score. \n",
    "\n",
    "1. `Age Grouped` - Grouping the individual patients age to see if a particular age group had a higher tendency of attending the scheduled appointment. Based on the 7 age grouping there was not a particular group made or missed appointments more than any other age grouping.  This is supported by the low correlation score (-0.061), too.\n",
    "\n",
    "2. `Appointment Scheduled Group` The appointment scheduled group provided a look at all of the patients grouped by total number of appoints they had. The initial assumption was patients with more appointments scheduled would be less likely to miss an appointment.   However, that was not the scenario as number of appointments did not have a direct correlation to patients making or missing their appointment.  \n",
    "\n",
    "3. `Appointment Percentage Group` - For this grouping we took all of the patients and calculated what percentage of **their meetings they attended**. The histogram (*Percentage of Appointments Attended/Made*) was skewed right but it was somewhat uniform after the initial bin of misses. This suggests that maybe this grouping will be valuable to predicting if patients will attend scheduled meetings. **Age**, **Text Messages Sent**, **Days between Appointment**, **Hypertension** and **Financial Aid** received all appear to be good indicators for deciding if a patient will make a higher percentage of scheduled meetings.  \n",
    "\n",
    "4. `Number of Days between Scheduling Appointment and Actual Day of Appointment` The number of days combined with appointment percentage group provides a strong indicator for predicting attendance.  Days between appointment has a correlation of 0.19 with Made/Missed and 0.14 with percentage of appointments made.  "
   ]
  },
  {
   "cell_type": "code",
   "execution_count": 224,
   "metadata": {
    "code_folding": []
   },
   "outputs": [
    {
     "data": {
      "image/png": "[encoded data removed]",
      "text/plain": [
       "<Figure size 864x504 with 2 Axes>"
      ]
     },
     "metadata": {
      "needs_background": "light"
     },
     "output_type": "display_data"
    }
   ],
   "source": [
    "# Heatmap Original Data\n",
    "InteractiveShell.ast_node_interactivity = \"none\" # \"last_expr\" \"all\" \"none\"\n",
    "fig, ax = plt.subplots()\n",
    "fig.set_size_inches(12,7)\n",
    "ax.set_title(\"Correlation Matrix Engineered Features\",fontsize=18,fontweight='bold')\n",
    "ax = sns.heatmap(df_corr_2.corr(),vmin=-1,cmap=sns.diverging_palette(128,240,as_cmap=True),annot=True,linewidths=1)\n"
   ]
  },
  {
   "cell_type": "markdown",
   "metadata": {},
   "source": [
    "<a id=\"final\"></a>\n",
    "## Final Recommendation \n",
    "The final recommendation would be to create a machine learning model using Random Forest algorithm using all 10 features.  Then run again using the following features to see if the predictor value improves.  The below 6 indicator are what is believed to be the best features for predicting whether a patient will make or miss a scheduled appointment. \n",
    "\n",
    " * Age, Hypertension, SMS Sent, Financial Aid, Days Between Grouping and Appointment Percentage Grouping"
   ]
  },
  {
   "cell_type": "code",
   "execution_count": 225,
   "metadata": {
    "code_folding": []
   },
   "outputs": [],
   "source": [
    "# Save final version of main df to csv\n",
    "import datetime as dt\n",
    "y_m_d = dt.datetime.today().strftime(\"%Y%m%d\")\n",
    "file_name = 'no_show_final_' + y_m_d + '.csv'\n",
    "df.to_csv(file_name, index=False)"
   ]
  },
  {
   "cell_type": "code",
   "execution_count": 226,
   "metadata": {},
   "outputs": [
    {
     "name": "stdout",
     "output_type": "stream",
     "text": [
      "3.1.2\n"
     ]
    }
   ],
   "source": [
    "print(matplotlib.__version__)"
   ]
  }
 ],
 "metadata": {
  "kernelspec": {
   "display_name": "Python 3",
   "language": "python",
   "name": "python3"
  },
  "language_info": {
   "codemirror_mode": {
    "name": "ipython",
    "version": 3
   },
   "file_extension": ".py",
   "mimetype": "text/x-python",
   "name": "python",
   "nbconvert_exporter": "python",
   "pygments_lexer": "ipython3",
   "version": "3.7.4"
  },
  "varInspector": {
   "cols": {
    "lenName": 16,
    "lenType": 16,
    "lenVar": 40
   },
   "kernels_config": {
    "python": {
     "delete_cmd_postfix": "",
     "delete_cmd_prefix": "del ",
     "library": "var_list.py",
     "varRefreshCmd": "print(var_dic_list())"
    },
    "r": {
     "delete_cmd_postfix": ") ",
     "delete_cmd_prefix": "rm(",
     "library": "var_list.r",
     "varRefreshCmd": "cat(var_dic_list()) "
    }
   },
   "types_to_exclude": [
    "module",
    "function",
    "builtin_function_or_method",
    "instance",
    "_Feature"
   ],
   "window_display": false
  }
 },
 "nbformat": 4,
 "nbformat_minor": 2
}
